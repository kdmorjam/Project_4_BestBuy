{
  "cells": [
    {
      "cell_type": "code",
      "execution_count": 27,
      "metadata": {
        "_cell_guid": "b1076dfc-b9ad-4769-8c92-a6c4dae69d19",
        "_uuid": "8f2839f25d086af736a60e9eeb907d3b93b6e0e5",
        "execution": {
          "iopub.execute_input": "2023-07-25T14:12:57.717432Z",
          "iopub.status.busy": "2023-07-25T14:12:57.716162Z",
          "iopub.status.idle": "2023-07-25T14:12:57.739508Z",
          "shell.execute_reply": "2023-07-25T14:12:57.738293Z",
          "shell.execute_reply.started": "2023-07-25T14:12:57.717376Z"
        },
        "id": "EMrzxhRyD1YD",
        "trusted": true
      },
      "outputs": [],
      "source": [
        "# This Python 3 environment comes with many helpful analytics libraries installed\n",
        "# It is defined by the kaggle/python Docker image: https://github.com/kaggle/docker-python\n",
        "# For example, here's several helpful packages to load\n",
        "\n",
        "import numpy as np # linear algebra\n",
        "import pandas as pd # data processing, CSV file I/O (e.g. pd.read_csv)\n",
        "\n",
        "# Input data files are available in the read-only \"../input/\" directory\n",
        "# For example, running this (by clicking run or pressing Shift+Enter) will list all files under the input directory\n",
        "\n",
        "import os\n",
        "for dirname, _, filenames in os.walk('/kaggle/input'):\n",
        "    for filename in filenames:\n",
        "        print(os.path.join(dirname, filename))\n",
        "\n",
        "# You can write up to 20GB to the current directory (/kaggle/working/) that gets preserved as output when you create a version using \"Save & Run All\"\n",
        "# You can also write temporary files to /kaggle/temp/, but they won't be saved outside of the current session"
      ]
    },
    {
      "cell_type": "code",
      "execution_count": 28,
      "metadata": {
        "execution": {
          "iopub.execute_input": "2023-07-25T14:12:57.860537Z",
          "iopub.status.busy": "2023-07-25T14:12:57.859573Z",
          "iopub.status.idle": "2023-07-25T14:12:57.877137Z",
          "shell.execute_reply": "2023-07-25T14:12:57.876289Z",
          "shell.execute_reply.started": "2023-07-25T14:12:57.860497Z"
        },
        "id": "PraF4VAzD1YH",
        "trusted": true
      },
      "outputs": [],
      "source": [
        "data =pd.read_csv('/content/SQL data.csv')"
      ]
    },
    {
      "cell_type": "code",
      "execution_count": 29,
      "metadata": {
        "execution": {
          "iopub.execute_input": "2023-07-25T14:12:57.993875Z",
          "iopub.status.busy": "2023-07-25T14:12:57.993160Z",
          "iopub.status.idle": "2023-07-25T14:12:57.999362Z",
          "shell.execute_reply": "2023-07-25T14:12:57.998574Z",
          "shell.execute_reply.started": "2023-07-25T14:12:57.993838Z"
        },
        "id": "CNqlNILSD1YI",
        "trusted": true
      },
      "outputs": [],
      "source": [
        "data=data.drop(data.columns[0], axis=1)"
      ]
    },
    {
      "cell_type": "code",
      "execution_count": 30,
      "metadata": {
        "colab": {
          "base_uri": "https://localhost:8080/",
          "height": 250
        },
        "execution": {
          "iopub.execute_input": "2023-07-25T14:12:58.305144Z",
          "iopub.status.busy": "2023-07-25T14:12:58.304494Z",
          "iopub.status.idle": "2023-07-25T14:12:58.320649Z",
          "shell.execute_reply": "2023-07-25T14:12:58.319529Z",
          "shell.execute_reply.started": "2023-07-25T14:12:58.305081Z"
        },
        "id": "7LfaCQ24D1YI",
        "outputId": "b50c5256-2ca7-4d25-927c-d6b744e37cd9",
        "trusted": true
      },
      "outputs": [
        {
          "data": {
            "text/html": [
              "\n",
              "\n",
              "  <div id=\"df-00c6b633-f9e1-48b4-85c0-6a52d476a452\">\n",
              "    <div class=\"colab-df-container\">\n",
              "      <div>\n",
              "<style scoped>\n",
              "    .dataframe tbody tr th:only-of-type {\n",
              "        vertical-align: middle;\n",
              "    }\n",
              "\n",
              "    .dataframe tbody tr th {\n",
              "        vertical-align: top;\n",
              "    }\n",
              "\n",
              "    .dataframe thead th {\n",
              "        text-align: right;\n",
              "    }\n",
              "</style>\n",
              "<table border=\"1\" class=\"dataframe\">\n",
              "  <thead>\n",
              "    <tr style=\"text-align: right;\">\n",
              "      <th></th>\n",
              "      <th>description</th>\n",
              "      <th>reviews</th>\n",
              "      <th>Price</th>\n",
              "      <th>discount</th>\n",
              "      <th>Brand</th>\n",
              "      <th>TV_Size</th>\n",
              "      <th>TV_Type</th>\n",
              "      <th>TV_Pixels</th>\n",
              "    </tr>\n",
              "  </thead>\n",
              "  <tbody>\n",
              "    <tr>\n",
              "      <th>0</th>\n",
              "      <td>Amazon Echo Show 10 with Alexa - Charcoal</td>\n",
              "      <td>(1167 Reviews)</td>\n",
              "      <td>$249.99</td>\n",
              "      <td>$80</td>\n",
              "      <td>Amazon Echo</td>\n",
              "      <td>NaN</td>\n",
              "      <td>NaN</td>\n",
              "      <td>NaN</td>\n",
              "    </tr>\n",
              "    <tr>\n",
              "      <th>1</th>\n",
              "      <td>Amazon Echo (4th Gen) Smart Home Hub with Alex...</td>\n",
              "      <td>(441 Reviews)</td>\n",
              "      <td>$94.99</td>\n",
              "      <td>$20</td>\n",
              "      <td>Amazon Echo</td>\n",
              "      <td>NaN</td>\n",
              "      <td>NaN</td>\n",
              "      <td>NaN</td>\n",
              "    </tr>\n",
              "    <tr>\n",
              "      <th>2</th>\n",
              "      <td>Samsung 55 4K UHD HDR LED Tizen Smart TV (UN55...</td>\n",
              "      <td>(40 Reviews)</td>\n",
              "      <td>$599.99</td>\n",
              "      <td>15.5</td>\n",
              "      <td>Samsung</td>\n",
              "      <td>LED</td>\n",
              "      <td>55.0</td>\n",
              "      <td>4K</td>\n",
              "    </tr>\n",
              "    <tr>\n",
              "      <th>3</th>\n",
              "      <td>Samsung 43 4K UHD HDR LED Tizen Smart TV (UN43...</td>\n",
              "      <td>(1015 Reviews)</td>\n",
              "      <td>$399.99</td>\n",
              "      <td>12.2</td>\n",
              "      <td>Samsung</td>\n",
              "      <td>LED</td>\n",
              "      <td>43.0</td>\n",
              "      <td>4K</td>\n",
              "    </tr>\n",
              "    <tr>\n",
              "      <th>4</th>\n",
              "      <td>Samsung The Frame 65 4K UHD HDR QLED Tizen Sma...</td>\n",
              "      <td>(418 Reviews)</td>\n",
              "      <td>$2,299.99</td>\n",
              "      <td>$400</td>\n",
              "      <td>Samsung</td>\n",
              "      <td>LED</td>\n",
              "      <td>65.0</td>\n",
              "      <td>4K</td>\n",
              "    </tr>\n",
              "  </tbody>\n",
              "</table>\n",
              "</div>\n",
              "      <button class=\"colab-df-convert\" onclick=\"convertToInteractive('df-00c6b633-f9e1-48b4-85c0-6a52d476a452')\"\n",
              "              title=\"Convert this dataframe to an interactive table.\"\n",
              "              style=\"display:none;\">\n",
              "\n",
              "  <svg xmlns=\"http://www.w3.org/2000/svg\" height=\"24px\"viewBox=\"0 0 24 24\"\n",
              "       width=\"24px\">\n",
              "    <path d=\"M0 0h24v24H0V0z\" fill=\"none\"/>\n",
              "    <path d=\"M18.56 5.44l.94 2.06.94-2.06 2.06-.94-2.06-.94-.94-2.06-.94 2.06-2.06.94zm-11 1L8.5 8.5l.94-2.06 2.06-.94-2.06-.94L8.5 2.5l-.94 2.06-2.06.94zm10 10l.94 2.06.94-2.06 2.06-.94-2.06-.94-.94-2.06-.94 2.06-2.06.94z\"/><path d=\"M17.41 7.96l-1.37-1.37c-.4-.4-.92-.59-1.43-.59-.52 0-1.04.2-1.43.59L10.3 9.45l-7.72 7.72c-.78.78-.78 2.05 0 2.83L4 21.41c.39.39.9.59 1.41.59.51 0 1.02-.2 1.41-.59l7.78-7.78 2.81-2.81c.8-.78.8-2.07 0-2.86zM5.41 20L4 18.59l7.72-7.72 1.47 1.35L5.41 20z\"/>\n",
              "  </svg>\n",
              "      </button>\n",
              "\n",
              "\n",
              "\n",
              "    <div id=\"df-dbbba9ca-322f-4745-9303-f3f15d413988\">\n",
              "      <button class=\"colab-df-quickchart\" onclick=\"quickchart('df-dbbba9ca-322f-4745-9303-f3f15d413988')\"\n",
              "              title=\"Suggest charts.\"\n",
              "              style=\"display:none;\">\n",
              "\n",
              "<svg xmlns=\"http://www.w3.org/2000/svg\" height=\"24px\"viewBox=\"0 0 24 24\"\n",
              "     width=\"24px\">\n",
              "    <g>\n",
              "        <path d=\"M19 3H5c-1.1 0-2 .9-2 2v14c0 1.1.9 2 2 2h14c1.1 0 2-.9 2-2V5c0-1.1-.9-2-2-2zM9 17H7v-7h2v7zm4 0h-2V7h2v10zm4 0h-2v-4h2v4z\"/>\n",
              "    </g>\n",
              "</svg>\n",
              "      </button>\n",
              "    </div>\n",
              "\n",
              "<style>\n",
              "  .colab-df-quickchart {\n",
              "    background-color: #E8F0FE;\n",
              "    border: none;\n",
              "    border-radius: 50%;\n",
              "    cursor: pointer;\n",
              "    display: none;\n",
              "    fill: #1967D2;\n",
              "    height: 32px;\n",
              "    padding: 0 0 0 0;\n",
              "    width: 32px;\n",
              "  }\n",
              "\n",
              "  .colab-df-quickchart:hover {\n",
              "    background-color: #E2EBFA;\n",
              "    box-shadow: 0px 1px 2px rgba(60, 64, 67, 0.3), 0px 1px 3px 1px rgba(60, 64, 67, 0.15);\n",
              "    fill: #174EA6;\n",
              "  }\n",
              "\n",
              "  [theme=dark] .colab-df-quickchart {\n",
              "    background-color: #3B4455;\n",
              "    fill: #D2E3FC;\n",
              "  }\n",
              "\n",
              "  [theme=dark] .colab-df-quickchart:hover {\n",
              "    background-color: #434B5C;\n",
              "    box-shadow: 0px 1px 3px 1px rgba(0, 0, 0, 0.15);\n",
              "    filter: drop-shadow(0px 1px 2px rgba(0, 0, 0, 0.3));\n",
              "    fill: #FFFFFF;\n",
              "  }\n",
              "</style>\n",
              "\n",
              "    <script>\n",
              "      async function quickchart(key) {\n",
              "        const containerElement = document.querySelector('#' + key);\n",
              "        const charts = await google.colab.kernel.invokeFunction(\n",
              "            'suggestCharts', [key], {});\n",
              "      }\n",
              "    </script>\n",
              "\n",
              "      <script>\n",
              "\n",
              "function displayQuickchartButton(domScope) {\n",
              "  let quickchartButtonEl =\n",
              "    domScope.querySelector('#df-dbbba9ca-322f-4745-9303-f3f15d413988 button.colab-df-quickchart');\n",
              "  quickchartButtonEl.style.display =\n",
              "    google.colab.kernel.accessAllowed ? 'block' : 'none';\n",
              "}\n",
              "\n",
              "        displayQuickchartButton(document);\n",
              "      </script>\n",
              "      <style>\n",
              "    .colab-df-container {\n",
              "      display:flex;\n",
              "      flex-wrap:wrap;\n",
              "      gap: 12px;\n",
              "    }\n",
              "\n",
              "    .colab-df-convert {\n",
              "      background-color: #E8F0FE;\n",
              "      border: none;\n",
              "      border-radius: 50%;\n",
              "      cursor: pointer;\n",
              "      display: none;\n",
              "      fill: #1967D2;\n",
              "      height: 32px;\n",
              "      padding: 0 0 0 0;\n",
              "      width: 32px;\n",
              "    }\n",
              "\n",
              "    .colab-df-convert:hover {\n",
              "      background-color: #E2EBFA;\n",
              "      box-shadow: 0px 1px 2px rgba(60, 64, 67, 0.3), 0px 1px 3px 1px rgba(60, 64, 67, 0.15);\n",
              "      fill: #174EA6;\n",
              "    }\n",
              "\n",
              "    [theme=dark] .colab-df-convert {\n",
              "      background-color: #3B4455;\n",
              "      fill: #D2E3FC;\n",
              "    }\n",
              "\n",
              "    [theme=dark] .colab-df-convert:hover {\n",
              "      background-color: #434B5C;\n",
              "      box-shadow: 0px 1px 3px 1px rgba(0, 0, 0, 0.15);\n",
              "      filter: drop-shadow(0px 1px 2px rgba(0, 0, 0, 0.3));\n",
              "      fill: #FFFFFF;\n",
              "    }\n",
              "  </style>\n",
              "\n",
              "      <script>\n",
              "        const buttonEl =\n",
              "          document.querySelector('#df-00c6b633-f9e1-48b4-85c0-6a52d476a452 button.colab-df-convert');\n",
              "        buttonEl.style.display =\n",
              "          google.colab.kernel.accessAllowed ? 'block' : 'none';\n",
              "\n",
              "        async function convertToInteractive(key) {\n",
              "          const element = document.querySelector('#df-00c6b633-f9e1-48b4-85c0-6a52d476a452');\n",
              "          const dataTable =\n",
              "            await google.colab.kernel.invokeFunction('convertToInteractive',\n",
              "                                                     [key], {});\n",
              "          if (!dataTable) return;\n",
              "\n",
              "          const docLinkHtml = 'Like what you see? Visit the ' +\n",
              "            '<a target=\"_blank\" href=https://colab.research.google.com/notebooks/data_table.ipynb>data table notebook</a>'\n",
              "            + ' to learn more about interactive tables.';\n",
              "          element.innerHTML = '';\n",
              "          dataTable['output_type'] = 'display_data';\n",
              "          await google.colab.output.renderOutput(dataTable, element);\n",
              "          const docLink = document.createElement('div');\n",
              "          docLink.innerHTML = docLinkHtml;\n",
              "          element.appendChild(docLink);\n",
              "        }\n",
              "      </script>\n",
              "    </div>\n",
              "  </div>\n"
            ],
            "text/plain": [
              "                                         description         reviews  \\\n",
              "0          Amazon Echo Show 10 with Alexa - Charcoal  (1167 Reviews)   \n",
              "1  Amazon Echo (4th Gen) Smart Home Hub with Alex...   (441 Reviews)   \n",
              "2  Samsung 55 4K UHD HDR LED Tizen Smart TV (UN55...    (40 Reviews)   \n",
              "3  Samsung 43 4K UHD HDR LED Tizen Smart TV (UN43...  (1015 Reviews)   \n",
              "4  Samsung The Frame 65 4K UHD HDR QLED Tizen Sma...   (418 Reviews)   \n",
              "\n",
              "       Price discount                 Brand TV_Size  TV_Type TV_Pixels  \n",
              "0    $249.99      $80  Amazon Echo              NaN      NaN       NaN  \n",
              "1     $94.99      $20  Amazon Echo              NaN      NaN       NaN  \n",
              "2    $599.99     15.5  Samsung                  LED     55.0        4K  \n",
              "3    $399.99     12.2  Samsung                  LED     43.0        4K  \n",
              "4  $2,299.99     $400  Samsung                  LED     65.0        4K  "
            ]
          },
          "execution_count": 30,
          "metadata": {},
          "output_type": "execute_result"
        }
      ],
      "source": [
        "data.head()"
      ]
    },
    {
      "cell_type": "code",
      "execution_count": 31,
      "metadata": {
        "colab": {
          "base_uri": "https://localhost:8080/"
        },
        "execution": {
          "iopub.execute_input": "2023-07-25T14:12:58.404482Z",
          "iopub.status.busy": "2023-07-25T14:12:58.404089Z",
          "iopub.status.idle": "2023-07-25T14:12:58.421446Z",
          "shell.execute_reply": "2023-07-25T14:12:58.420343Z",
          "shell.execute_reply.started": "2023-07-25T14:12:58.404452Z"
        },
        "id": "G4WEwzzyD1YI",
        "outputId": "ad13c2bd-39dc-42d2-b54b-85fe18ef436a",
        "trusted": true
      },
      "outputs": [
        {
          "name": "stdout",
          "output_type": "stream",
          "text": [
            "<class 'pandas.core.frame.DataFrame'>\n",
            "RangeIndex: 1642 entries, 0 to 1641\n",
            "Data columns (total 8 columns):\n",
            " #   Column       Non-Null Count  Dtype  \n",
            "---  ------       --------------  -----  \n",
            " 0   description  1642 non-null   object \n",
            " 1   reviews      1640 non-null   object \n",
            " 2   Price        1622 non-null   object \n",
            " 3   discount     1428 non-null   object \n",
            " 4   Brand        1642 non-null   object \n",
            " 5   TV_Size      1560 non-null   object \n",
            " 6   TV_Type      1556 non-null   float64\n",
            " 7   TV_Pixels    1486 non-null   object \n",
            "dtypes: float64(1), object(7)\n",
            "memory usage: 102.8+ KB\n"
          ]
        }
      ],
      "source": [
        "data.info()"
      ]
    },
    {
      "cell_type": "code",
      "execution_count": 32,
      "metadata": {
        "colab": {
          "base_uri": "https://localhost:8080/"
        },
        "execution": {
          "iopub.execute_input": "2023-07-25T14:12:58.516515Z",
          "iopub.status.busy": "2023-07-25T14:12:58.516086Z",
          "iopub.status.idle": "2023-07-25T14:12:58.530476Z",
          "shell.execute_reply": "2023-07-25T14:12:58.529248Z",
          "shell.execute_reply.started": "2023-07-25T14:12:58.516482Z"
        },
        "id": "ss1JUWerD1YJ",
        "outputId": "3fafd1f2-45bf-4236-fad9-9925cdfe9e55",
        "trusted": true
      },
      "outputs": [
        {
          "data": {
            "text/plain": [
              "description      0\n",
              "reviews          2\n",
              "Price           20\n",
              "discount       214\n",
              "Brand            0\n",
              "TV_Size         82\n",
              "TV_Type         86\n",
              "TV_Pixels      156\n",
              "dtype: int64"
            ]
          },
          "execution_count": 32,
          "metadata": {},
          "output_type": "execute_result"
        }
      ],
      "source": [
        "data.isna().sum()"
      ]
    },
    {
      "cell_type": "code",
      "execution_count": 33,
      "metadata": {
        "colab": {
          "base_uri": "https://localhost:8080/"
        },
        "execution": {
          "iopub.execute_input": "2023-07-25T14:12:58.635727Z",
          "iopub.status.busy": "2023-07-25T14:12:58.635024Z",
          "iopub.status.idle": "2023-07-25T14:12:58.648506Z",
          "shell.execute_reply": "2023-07-25T14:12:58.647455Z",
          "shell.execute_reply.started": "2023-07-25T14:12:58.635692Z"
        },
        "id": "HhVYmlyqD1YJ",
        "outputId": "26bd2648-56f8-405a-e113-70dd18a7e784",
        "trusted": true
      },
      "outputs": [
        {
          "data": {
            "text/plain": [
              "0       3\n",
              "1       3\n",
              "2       0\n",
              "3       0\n",
              "4       0\n",
              "       ..\n",
              "1637    0\n",
              "1638    0\n",
              "1639    0\n",
              "1640    3\n",
              "1641    3\n",
              "Length: 1642, dtype: int64"
            ]
          },
          "execution_count": 33,
          "metadata": {},
          "output_type": "execute_result"
        }
      ],
      "source": [
        "data.isnull().sum(axis=1)"
      ]
    },
    {
      "cell_type": "code",
      "execution_count": 34,
      "metadata": {
        "execution": {
          "iopub.execute_input": "2023-07-25T14:12:58.774747Z",
          "iopub.status.busy": "2023-07-25T14:12:58.774329Z",
          "iopub.status.idle": "2023-07-25T14:12:58.779777Z",
          "shell.execute_reply": "2023-07-25T14:12:58.778583Z",
          "shell.execute_reply.started": "2023-07-25T14:12:58.774713Z"
        },
        "id": "oorlacc3D1YJ",
        "trusted": true
      },
      "outputs": [],
      "source": [
        "#data = data[data.isnull().sum(axis=1) < 2]"
      ]
    },
    {
      "cell_type": "code",
      "execution_count": 35,
      "metadata": {
        "colab": {
          "base_uri": "https://localhost:8080/"
        },
        "execution": {
          "iopub.execute_input": "2023-07-25T14:12:58.912480Z",
          "iopub.status.busy": "2023-07-25T14:12:58.912024Z",
          "iopub.status.idle": "2023-07-25T14:12:58.925367Z",
          "shell.execute_reply": "2023-07-25T14:12:58.924263Z",
          "shell.execute_reply.started": "2023-07-25T14:12:58.912447Z"
        },
        "id": "-SS_CrTdD1YK",
        "outputId": "dd67719b-c4a1-4387-ac39-38eb16f4802a",
        "trusted": true
      },
      "outputs": [
        {
          "data": {
            "text/plain": [
              "description      0\n",
              "reviews          2\n",
              "Price           20\n",
              "discount       214\n",
              "Brand            0\n",
              "TV_Size         82\n",
              "TV_Type         86\n",
              "TV_Pixels      156\n",
              "dtype: int64"
            ]
          },
          "execution_count": 35,
          "metadata": {},
          "output_type": "execute_result"
        }
      ],
      "source": [
        "data.isna().sum()"
      ]
    },
    {
      "cell_type": "code",
      "execution_count": 36,
      "metadata": {
        "execution": {
          "iopub.execute_input": "2023-07-25T14:12:59.190562Z",
          "iopub.status.busy": "2023-07-25T14:12:59.190181Z",
          "iopub.status.idle": "2023-07-25T14:12:59.196555Z",
          "shell.execute_reply": "2023-07-25T14:12:59.195484Z",
          "shell.execute_reply.started": "2023-07-25T14:12:59.190531Z"
        },
        "id": "cHHjBxsQD1YK",
        "trusted": true
      },
      "outputs": [],
      "source": [
        "data.discount = data.discount.fillna(0)"
      ]
    },
    {
      "cell_type": "code",
      "execution_count": 37,
      "metadata": {
        "colab": {
          "base_uri": "https://localhost:8080/"
        },
        "execution": {
          "iopub.execute_input": "2023-07-25T14:12:59.198878Z",
          "iopub.status.busy": "2023-07-25T14:12:59.198537Z",
          "iopub.status.idle": "2023-07-25T14:12:59.212455Z",
          "shell.execute_reply": "2023-07-25T14:12:59.211544Z",
          "shell.execute_reply.started": "2023-07-25T14:12:59.198848Z"
        },
        "id": "Hkl1wSiKD1YL",
        "outputId": "50dc0700-93fa-4e6f-9fb5-688a58d81853",
        "trusted": true
      },
      "outputs": [
        {
          "data": {
            "text/plain": [
              "array([nan, 'LED', 'OLED', 'QNED', 'LCD'], dtype=object)"
            ]
          },
          "execution_count": 37,
          "metadata": {},
          "output_type": "execute_result"
        }
      ],
      "source": [
        "data.TV_Size.unique()"
      ]
    },
    {
      "cell_type": "code",
      "execution_count": 38,
      "metadata": {
        "colab": {
          "base_uri": "https://localhost:8080/"
        },
        "execution": {
          "iopub.execute_input": "2023-07-25T14:12:59.259438Z",
          "iopub.status.busy": "2023-07-25T14:12:59.258677Z",
          "iopub.status.idle": "2023-07-25T14:12:59.267204Z",
          "shell.execute_reply": "2023-07-25T14:12:59.266064Z",
          "shell.execute_reply.started": "2023-07-25T14:12:59.259403Z"
        },
        "id": "hkcyke0SD1YL",
        "outputId": "6c57252f-122d-4acd-ef26-06e47af2c619",
        "trusted": true
      },
      "outputs": [
        {
          "data": {
            "text/plain": [
              "array([ nan,  55.,  43.,  65.,  58.,  32.,  50.,  40.,  42.,  70.,  75.,\n",
              "        77.,  85.,  82.,  48.,  86.,  24.,  98., 100.,  83.,  60.,  22.,\n",
              "        49.,  19.,  46.,  37.,   7.,   6.])"
            ]
          },
          "execution_count": 38,
          "metadata": {},
          "output_type": "execute_result"
        }
      ],
      "source": [
        "data.TV_Type.unique()\n"
      ]
    },
    {
      "cell_type": "code",
      "execution_count": 39,
      "metadata": {
        "colab": {
          "base_uri": "https://localhost:8080/"
        },
        "execution": {
          "iopub.execute_input": "2023-07-25T14:12:59.383495Z",
          "iopub.status.busy": "2023-07-25T14:12:59.383120Z",
          "iopub.status.idle": "2023-07-25T14:12:59.391204Z",
          "shell.execute_reply": "2023-07-25T14:12:59.390085Z",
          "shell.execute_reply.started": "2023-07-25T14:12:59.383465Z"
        },
        "id": "K0IVrZD-D1YL",
        "outputId": "37e989e6-b169-4fa5-c19d-df96bb108845",
        "trusted": true
      },
      "outputs": [
        {
          "data": {
            "text/plain": [
              "array([nan, '4K', '1080p', '720p', 'Ultra HD'], dtype=object)"
            ]
          },
          "execution_count": 39,
          "metadata": {},
          "output_type": "execute_result"
        }
      ],
      "source": [
        "data.TV_Pixels.unique()"
      ]
    },
    {
      "cell_type": "markdown",
      "metadata": {
        "id": "cdVw_ltDD1YM"
      },
      "source": [
        "Handling missing values"
      ]
    },
    {
      "cell_type": "code",
      "execution_count": 40,
      "metadata": {
        "execution": {
          "iopub.execute_input": "2023-07-25T14:12:59.493139Z",
          "iopub.status.busy": "2023-07-25T14:12:59.492737Z",
          "iopub.status.idle": "2023-07-25T14:12:59.501842Z",
          "shell.execute_reply": "2023-07-25T14:12:59.500598Z",
          "shell.execute_reply.started": "2023-07-25T14:12:59.493075Z"
        },
        "id": "LW5jTaVID1YN",
        "trusted": true
      },
      "outputs": [],
      "source": [
        "missing_data = data[data['TV_Size'].isna() | data['TV_Type'].isna() | data['TV_Pixels'].isna()]"
      ]
    },
    {
      "cell_type": "code",
      "execution_count": 41,
      "metadata": {
        "colab": {
          "base_uri": "https://localhost:8080/",
          "height": 250
        },
        "execution": {
          "iopub.execute_input": "2023-07-25T14:12:59.609681Z",
          "iopub.status.busy": "2023-07-25T14:12:59.608689Z",
          "iopub.status.idle": "2023-07-25T14:12:59.625371Z",
          "shell.execute_reply": "2023-07-25T14:12:59.624160Z",
          "shell.execute_reply.started": "2023-07-25T14:12:59.609643Z"
        },
        "id": "JjJqJBw-D1YO",
        "outputId": "59b342a5-703f-401f-a963-eba5d9226843",
        "trusted": true
      },
      "outputs": [
        {
          "data": {
            "text/html": [
              "\n",
              "\n",
              "  <div id=\"df-e0177834-b33a-4048-9ff5-d8c2995af947\">\n",
              "    <div class=\"colab-df-container\">\n",
              "      <div>\n",
              "<style scoped>\n",
              "    .dataframe tbody tr th:only-of-type {\n",
              "        vertical-align: middle;\n",
              "    }\n",
              "\n",
              "    .dataframe tbody tr th {\n",
              "        vertical-align: top;\n",
              "    }\n",
              "\n",
              "    .dataframe thead th {\n",
              "        text-align: right;\n",
              "    }\n",
              "</style>\n",
              "<table border=\"1\" class=\"dataframe\">\n",
              "  <thead>\n",
              "    <tr style=\"text-align: right;\">\n",
              "      <th></th>\n",
              "      <th>description</th>\n",
              "      <th>reviews</th>\n",
              "      <th>Price</th>\n",
              "      <th>discount</th>\n",
              "      <th>Brand</th>\n",
              "      <th>TV_Size</th>\n",
              "      <th>TV_Type</th>\n",
              "      <th>TV_Pixels</th>\n",
              "    </tr>\n",
              "  </thead>\n",
              "  <tbody>\n",
              "    <tr>\n",
              "      <th>0</th>\n",
              "      <td>Amazon Echo Show 10 with Alexa - Charcoal</td>\n",
              "      <td>(1167 Reviews)</td>\n",
              "      <td>$249.99</td>\n",
              "      <td>$80</td>\n",
              "      <td>Amazon Echo</td>\n",
              "      <td>NaN</td>\n",
              "      <td>NaN</td>\n",
              "      <td>NaN</td>\n",
              "    </tr>\n",
              "    <tr>\n",
              "      <th>1</th>\n",
              "      <td>Amazon Echo (4th Gen) Smart Home Hub with Alex...</td>\n",
              "      <td>(441 Reviews)</td>\n",
              "      <td>$94.99</td>\n",
              "      <td>$20</td>\n",
              "      <td>Amazon Echo</td>\n",
              "      <td>NaN</td>\n",
              "      <td>NaN</td>\n",
              "      <td>NaN</td>\n",
              "    </tr>\n",
              "    <tr>\n",
              "      <th>5</th>\n",
              "      <td>Explore Sonyâs full TV lineup.</td>\n",
              "      <td>NaN</td>\n",
              "      <td>NaN</td>\n",
              "      <td>15.5</td>\n",
              "      <td>Sony</td>\n",
              "      <td>NaN</td>\n",
              "      <td>NaN</td>\n",
              "      <td>NaN</td>\n",
              "    </tr>\n",
              "    <tr>\n",
              "      <th>27</th>\n",
              "      <td>Amazon Echo Show 10 with Alexa - Glacier White</td>\n",
              "      <td>(1163 Reviews)</td>\n",
              "      <td>$249.99</td>\n",
              "      <td>$35</td>\n",
              "      <td>Amazon Echo</td>\n",
              "      <td>NaN</td>\n",
              "      <td>NaN</td>\n",
              "      <td>NaN</td>\n",
              "    </tr>\n",
              "    <tr>\n",
              "      <th>28</th>\n",
              "      <td>Amazon Echo (4th Gen) Smart Home Hub with Alex...</td>\n",
              "      <td>(1209 Reviews)</td>\n",
              "      <td>$94.99</td>\n",
              "      <td>15.5</td>\n",
              "      <td>Amazon Echo</td>\n",
              "      <td>NaN</td>\n",
              "      <td>NaN</td>\n",
              "      <td>NaN</td>\n",
              "    </tr>\n",
              "  </tbody>\n",
              "</table>\n",
              "</div>\n",
              "      <button class=\"colab-df-convert\" onclick=\"convertToInteractive('df-e0177834-b33a-4048-9ff5-d8c2995af947')\"\n",
              "              title=\"Convert this dataframe to an interactive table.\"\n",
              "              style=\"display:none;\">\n",
              "\n",
              "  <svg xmlns=\"http://www.w3.org/2000/svg\" height=\"24px\"viewBox=\"0 0 24 24\"\n",
              "       width=\"24px\">\n",
              "    <path d=\"M0 0h24v24H0V0z\" fill=\"none\"/>\n",
              "    <path d=\"M18.56 5.44l.94 2.06.94-2.06 2.06-.94-2.06-.94-.94-2.06-.94 2.06-2.06.94zm-11 1L8.5 8.5l.94-2.06 2.06-.94-2.06-.94L8.5 2.5l-.94 2.06-2.06.94zm10 10l.94 2.06.94-2.06 2.06-.94-2.06-.94-.94-2.06-.94 2.06-2.06.94z\"/><path d=\"M17.41 7.96l-1.37-1.37c-.4-.4-.92-.59-1.43-.59-.52 0-1.04.2-1.43.59L10.3 9.45l-7.72 7.72c-.78.78-.78 2.05 0 2.83L4 21.41c.39.39.9.59 1.41.59.51 0 1.02-.2 1.41-.59l7.78-7.78 2.81-2.81c.8-.78.8-2.07 0-2.86zM5.41 20L4 18.59l7.72-7.72 1.47 1.35L5.41 20z\"/>\n",
              "  </svg>\n",
              "      </button>\n",
              "\n",
              "\n",
              "\n",
              "    <div id=\"df-7e18c5b6-4336-4829-be1e-bec98b97e31a\">\n",
              "      <button class=\"colab-df-quickchart\" onclick=\"quickchart('df-7e18c5b6-4336-4829-be1e-bec98b97e31a')\"\n",
              "              title=\"Suggest charts.\"\n",
              "              style=\"display:none;\">\n",
              "\n",
              "<svg xmlns=\"http://www.w3.org/2000/svg\" height=\"24px\"viewBox=\"0 0 24 24\"\n",
              "     width=\"24px\">\n",
              "    <g>\n",
              "        <path d=\"M19 3H5c-1.1 0-2 .9-2 2v14c0 1.1.9 2 2 2h14c1.1 0 2-.9 2-2V5c0-1.1-.9-2-2-2zM9 17H7v-7h2v7zm4 0h-2V7h2v10zm4 0h-2v-4h2v4z\"/>\n",
              "    </g>\n",
              "</svg>\n",
              "      </button>\n",
              "    </div>\n",
              "\n",
              "<style>\n",
              "  .colab-df-quickchart {\n",
              "    background-color: #E8F0FE;\n",
              "    border: none;\n",
              "    border-radius: 50%;\n",
              "    cursor: pointer;\n",
              "    display: none;\n",
              "    fill: #1967D2;\n",
              "    height: 32px;\n",
              "    padding: 0 0 0 0;\n",
              "    width: 32px;\n",
              "  }\n",
              "\n",
              "  .colab-df-quickchart:hover {\n",
              "    background-color: #E2EBFA;\n",
              "    box-shadow: 0px 1px 2px rgba(60, 64, 67, 0.3), 0px 1px 3px 1px rgba(60, 64, 67, 0.15);\n",
              "    fill: #174EA6;\n",
              "  }\n",
              "\n",
              "  [theme=dark] .colab-df-quickchart {\n",
              "    background-color: #3B4455;\n",
              "    fill: #D2E3FC;\n",
              "  }\n",
              "\n",
              "  [theme=dark] .colab-df-quickchart:hover {\n",
              "    background-color: #434B5C;\n",
              "    box-shadow: 0px 1px 3px 1px rgba(0, 0, 0, 0.15);\n",
              "    filter: drop-shadow(0px 1px 2px rgba(0, 0, 0, 0.3));\n",
              "    fill: #FFFFFF;\n",
              "  }\n",
              "</style>\n",
              "\n",
              "    <script>\n",
              "      async function quickchart(key) {\n",
              "        const containerElement = document.querySelector('#' + key);\n",
              "        const charts = await google.colab.kernel.invokeFunction(\n",
              "            'suggestCharts', [key], {});\n",
              "      }\n",
              "    </script>\n",
              "\n",
              "      <script>\n",
              "\n",
              "function displayQuickchartButton(domScope) {\n",
              "  let quickchartButtonEl =\n",
              "    domScope.querySelector('#df-7e18c5b6-4336-4829-be1e-bec98b97e31a button.colab-df-quickchart');\n",
              "  quickchartButtonEl.style.display =\n",
              "    google.colab.kernel.accessAllowed ? 'block' : 'none';\n",
              "}\n",
              "\n",
              "        displayQuickchartButton(document);\n",
              "      </script>\n",
              "      <style>\n",
              "    .colab-df-container {\n",
              "      display:flex;\n",
              "      flex-wrap:wrap;\n",
              "      gap: 12px;\n",
              "    }\n",
              "\n",
              "    .colab-df-convert {\n",
              "      background-color: #E8F0FE;\n",
              "      border: none;\n",
              "      border-radius: 50%;\n",
              "      cursor: pointer;\n",
              "      display: none;\n",
              "      fill: #1967D2;\n",
              "      height: 32px;\n",
              "      padding: 0 0 0 0;\n",
              "      width: 32px;\n",
              "    }\n",
              "\n",
              "    .colab-df-convert:hover {\n",
              "      background-color: #E2EBFA;\n",
              "      box-shadow: 0px 1px 2px rgba(60, 64, 67, 0.3), 0px 1px 3px 1px rgba(60, 64, 67, 0.15);\n",
              "      fill: #174EA6;\n",
              "    }\n",
              "\n",
              "    [theme=dark] .colab-df-convert {\n",
              "      background-color: #3B4455;\n",
              "      fill: #D2E3FC;\n",
              "    }\n",
              "\n",
              "    [theme=dark] .colab-df-convert:hover {\n",
              "      background-color: #434B5C;\n",
              "      box-shadow: 0px 1px 3px 1px rgba(0, 0, 0, 0.15);\n",
              "      filter: drop-shadow(0px 1px 2px rgba(0, 0, 0, 0.3));\n",
              "      fill: #FFFFFF;\n",
              "    }\n",
              "  </style>\n",
              "\n",
              "      <script>\n",
              "        const buttonEl =\n",
              "          document.querySelector('#df-e0177834-b33a-4048-9ff5-d8c2995af947 button.colab-df-convert');\n",
              "        buttonEl.style.display =\n",
              "          google.colab.kernel.accessAllowed ? 'block' : 'none';\n",
              "\n",
              "        async function convertToInteractive(key) {\n",
              "          const element = document.querySelector('#df-e0177834-b33a-4048-9ff5-d8c2995af947');\n",
              "          const dataTable =\n",
              "            await google.colab.kernel.invokeFunction('convertToInteractive',\n",
              "                                                     [key], {});\n",
              "          if (!dataTable) return;\n",
              "\n",
              "          const docLinkHtml = 'Like what you see? Visit the ' +\n",
              "            '<a target=\"_blank\" href=https://colab.research.google.com/notebooks/data_table.ipynb>data table notebook</a>'\n",
              "            + ' to learn more about interactive tables.';\n",
              "          element.innerHTML = '';\n",
              "          dataTable['output_type'] = 'display_data';\n",
              "          await google.colab.output.renderOutput(dataTable, element);\n",
              "          const docLink = document.createElement('div');\n",
              "          docLink.innerHTML = docLinkHtml;\n",
              "          element.appendChild(docLink);\n",
              "        }\n",
              "      </script>\n",
              "    </div>\n",
              "  </div>\n"
            ],
            "text/plain": [
              "                                          description         reviews  \\\n",
              "0           Amazon Echo Show 10 with Alexa - Charcoal  (1167 Reviews)   \n",
              "1   Amazon Echo (4th Gen) Smart Home Hub with Alex...   (441 Reviews)   \n",
              "5                   Explore Sonyâs full TV lineup.              NaN   \n",
              "27     Amazon Echo Show 10 with Alexa - Glacier White  (1163 Reviews)   \n",
              "28  Amazon Echo (4th Gen) Smart Home Hub with Alex...  (1209 Reviews)   \n",
              "\n",
              "      Price discount                 Brand TV_Size  TV_Type TV_Pixels  \n",
              "0   $249.99      $80  Amazon Echo              NaN      NaN       NaN  \n",
              "1    $94.99      $20  Amazon Echo              NaN      NaN       NaN  \n",
              "5       NaN     15.5  Sony                     NaN      NaN       NaN  \n",
              "27  $249.99      $35  Amazon Echo              NaN      NaN       NaN  \n",
              "28   $94.99     15.5  Amazon Echo              NaN      NaN       NaN  "
            ]
          },
          "execution_count": 41,
          "metadata": {},
          "output_type": "execute_result"
        }
      ],
      "source": [
        "missing_data.head()"
      ]
    },
    {
      "cell_type": "code",
      "execution_count": 42,
      "metadata": {
        "colab": {
          "base_uri": "https://localhost:8080/"
        },
        "execution": {
          "iopub.execute_input": "2023-07-25T14:12:59.708690Z",
          "iopub.status.busy": "2023-07-25T14:12:59.708279Z",
          "iopub.status.idle": "2023-07-25T14:12:59.716428Z",
          "shell.execute_reply": "2023-07-25T14:12:59.715175Z",
          "shell.execute_reply.started": "2023-07-25T14:12:59.708654Z"
        },
        "id": "4ehKRdNPD1YO",
        "outputId": "21ea3b96-edfe-4005-d48b-a35fb817607b",
        "trusted": true
      },
      "outputs": [
        {
          "data": {
            "text/plain": [
              "(242, 8)"
            ]
          },
          "execution_count": 42,
          "metadata": {},
          "output_type": "execute_result"
        }
      ],
      "source": [
        "missing_data.shape"
      ]
    },
    {
      "cell_type": "code",
      "execution_count": 43,
      "metadata": {
        "colab": {
          "base_uri": "https://localhost:8080/"
        },
        "execution": {
          "iopub.execute_input": "2023-07-25T14:12:59.816548Z",
          "iopub.status.busy": "2023-07-25T14:12:59.816186Z",
          "iopub.status.idle": "2023-07-25T14:12:59.826801Z",
          "shell.execute_reply": "2023-07-25T14:12:59.825636Z",
          "shell.execute_reply.started": "2023-07-25T14:12:59.816518Z"
        },
        "id": "AevQcnJtD1YP",
        "outputId": "864084f5-3ad8-4021-c68c-a01573fbe5d2",
        "trusted": true
      },
      "outputs": [
        {
          "data": {
            "text/plain": [
              "description      0\n",
              "reviews          2\n",
              "Price           14\n",
              "discount         0\n",
              "Brand            0\n",
              "TV_Size         82\n",
              "TV_Type         86\n",
              "TV_Pixels      156\n",
              "dtype: int64"
            ]
          },
          "execution_count": 43,
          "metadata": {},
          "output_type": "execute_result"
        }
      ],
      "source": [
        "missing_data.isna().sum()"
      ]
    },
    {
      "cell_type": "code",
      "execution_count": 44,
      "metadata": {
        "execution": {
          "iopub.execute_input": "2023-07-25T14:12:59.929306Z",
          "iopub.status.busy": "2023-07-25T14:12:59.928915Z",
          "iopub.status.idle": "2023-07-25T14:12:59.934860Z",
          "shell.execute_reply": "2023-07-25T14:12:59.933658Z",
          "shell.execute_reply.started": "2023-07-25T14:12:59.929275Z"
        },
        "id": "2uivPqs8D1YP",
        "trusted": true
      },
      "outputs": [],
      "source": [
        "tv_type_pattern = r'\\b(\\d+)(?=\\s?(?:inch|inches)?)\\b'\n",
        "tv_pixels_pattern = r'(?i)\\b\\s*(4K|8K|1080p|720p|Ultra\\s?HD)\\s*\\b'"
      ]
    },
    {
      "cell_type": "code",
      "execution_count": 45,
      "metadata": {
        "colab": {
          "base_uri": "https://localhost:8080/"
        },
        "execution": {
          "iopub.execute_input": "2023-07-25T14:13:00.043777Z",
          "iopub.status.busy": "2023-07-25T14:13:00.043180Z",
          "iopub.status.idle": "2023-07-25T14:13:00.052782Z",
          "shell.execute_reply": "2023-07-25T14:13:00.051755Z",
          "shell.execute_reply.started": "2023-07-25T14:13:00.043743Z"
        },
        "id": "GQ8R7rNBD1YP",
        "outputId": "8e9c01be-d27e-4f9e-bb83-c055160bcd8e",
        "trusted": true
      },
      "outputs": [
        {
          "name": "stderr",
          "output_type": "stream",
          "text": [
            "<ipython-input-45-d9e63635551a>:2: SettingWithCopyWarning: \n",
            "A value is trying to be set on a copy of a slice from a DataFrame.\n",
            "Try using .loc[row_indexer,col_indexer] = value instead\n",
            "\n",
            "See the caveats in the documentation: https://pandas.pydata.org/pandas-docs/stable/user_guide/indexing.html#returning-a-view-versus-a-copy\n",
            "  missing_data['TV_Type'] = missing_data['TV_Type'].astype(float)\n"
          ]
        }
      ],
      "source": [
        "missing_data.loc[missing_data['TV_Type'].isna(), 'TV_Type'] = missing_data.loc[missing_data['TV_Type'].isna(), 'description'].str.extract(tv_type_pattern)\n",
        "missing_data['TV_Type'] = missing_data['TV_Type'].astype(float)"
      ]
    },
    {
      "cell_type": "code",
      "execution_count": 46,
      "metadata": {
        "execution": {
          "iopub.execute_input": "2023-07-25T14:13:00.157766Z",
          "iopub.status.busy": "2023-07-25T14:13:00.157389Z",
          "iopub.status.idle": "2023-07-25T14:13:00.166678Z",
          "shell.execute_reply": "2023-07-25T14:13:00.165389Z",
          "shell.execute_reply.started": "2023-07-25T14:13:00.157735Z"
        },
        "id": "WECvxKTmD1YQ",
        "trusted": true
      },
      "outputs": [],
      "source": [
        "missing_tv_pixels = missing_data[missing_data['TV_Pixels'].isna()].copy()\n",
        "missing_tv_pixels['TV_Pixels'] = missing_tv_pixels['description'].str.extract(tv_pixels_pattern)"
      ]
    },
    {
      "cell_type": "code",
      "execution_count": 47,
      "metadata": {
        "execution": {
          "iopub.execute_input": "2023-07-25T14:13:00.211768Z",
          "iopub.status.busy": "2023-07-25T14:13:00.211336Z",
          "iopub.status.idle": "2023-07-25T14:13:00.219145Z",
          "shell.execute_reply": "2023-07-25T14:13:00.217970Z",
          "shell.execute_reply.started": "2023-07-25T14:13:00.211734Z"
        },
        "id": "MV2HQj2pD1YQ",
        "trusted": true
      },
      "outputs": [],
      "source": [
        "missing_tv_pixels.dropna(inplace=True)"
      ]
    },
    {
      "cell_type": "code",
      "execution_count": 48,
      "metadata": {
        "execution": {
          "iopub.execute_input": "2023-07-25T14:13:00.292797Z",
          "iopub.status.busy": "2023-07-25T14:13:00.292425Z",
          "iopub.status.idle": "2023-07-25T14:13:00.299058Z",
          "shell.execute_reply": "2023-07-25T14:13:00.297887Z",
          "shell.execute_reply.started": "2023-07-25T14:13:00.292768Z"
        },
        "id": "OJBSer-uD1YQ",
        "trusted": true
      },
      "outputs": [],
      "source": [
        "missing_data.loc[missing_tv_pixels.index, 'TV_Pixels'] = missing_tv_pixels['TV_Pixels']"
      ]
    },
    {
      "cell_type": "code",
      "execution_count": 49,
      "metadata": {
        "colab": {
          "base_uri": "https://localhost:8080/"
        },
        "execution": {
          "iopub.execute_input": "2023-07-25T14:13:00.398359Z",
          "iopub.status.busy": "2023-07-25T14:13:00.397867Z",
          "iopub.status.idle": "2023-07-25T14:13:00.408210Z",
          "shell.execute_reply": "2023-07-25T14:13:00.407165Z",
          "shell.execute_reply.started": "2023-07-25T14:13:00.398320Z"
        },
        "id": "22Hi9RXwD1YR",
        "outputId": "47ed008b-c31f-4ce5-fde7-f33b948fce8b",
        "trusted": true
      },
      "outputs": [
        {
          "data": {
            "text/plain": [
              "description     0\n",
              "reviews         2\n",
              "Price          14\n",
              "discount        0\n",
              "Brand           0\n",
              "TV_Size        82\n",
              "TV_Type        86\n",
              "TV_Pixels      76\n",
              "dtype: int64"
            ]
          },
          "execution_count": 49,
          "metadata": {},
          "output_type": "execute_result"
        }
      ],
      "source": [
        "missing_data.isna().sum()"
      ]
    },
    {
      "cell_type": "code",
      "execution_count": 50,
      "metadata": {
        "colab": {
          "base_uri": "https://localhost:8080/"
        },
        "execution": {
          "iopub.execute_input": "2023-07-25T14:13:00.493503Z",
          "iopub.status.busy": "2023-07-25T14:13:00.493088Z",
          "iopub.status.idle": "2023-07-25T14:13:00.500721Z",
          "shell.execute_reply": "2023-07-25T14:13:00.499585Z",
          "shell.execute_reply.started": "2023-07-25T14:13:00.493470Z"
        },
        "id": "NWW6IXDoD1YR",
        "outputId": "ba1de397-3dc1-4324-e317-cd2e45ae61d2",
        "trusted": true
      },
      "outputs": [
        {
          "name": "stderr",
          "output_type": "stream",
          "text": [
            "<ipython-input-50-311340f41f8a>:1: SettingWithCopyWarning: \n",
            "A value is trying to be set on a copy of a slice from a DataFrame\n",
            "\n",
            "See the caveats in the documentation: https://pandas.pydata.org/pandas-docs/stable/user_guide/indexing.html#returning-a-view-versus-a-copy\n",
            "  missing_data.dropna(inplace=True)\n"
          ]
        }
      ],
      "source": [
        "missing_data.dropna(inplace=True)"
      ]
    },
    {
      "cell_type": "raw",
      "metadata": {
        "id": "-7czkXacD1YR"
      },
      "source": [
        "Preprocess the data"
      ]
    },
    {
      "cell_type": "code",
      "execution_count": 51,
      "metadata": {
        "execution": {
          "iopub.execute_input": "2023-07-25T14:13:00.566232Z",
          "iopub.status.busy": "2023-07-25T14:13:00.565786Z",
          "iopub.status.idle": "2023-07-25T14:13:00.573984Z",
          "shell.execute_reply": "2023-07-25T14:13:00.572986Z",
          "shell.execute_reply.started": "2023-07-25T14:13:00.566189Z"
        },
        "id": "j71DxjWMD1YR",
        "trusted": true
      },
      "outputs": [],
      "source": [
        "data['TV_Type'] = data['TV_Type'].combine_first(missing_data['TV_Type'])"
      ]
    },
    {
      "cell_type": "code",
      "execution_count": 52,
      "metadata": {
        "execution": {
          "iopub.execute_input": "2023-07-25T14:13:00.623912Z",
          "iopub.status.busy": "2023-07-25T14:13:00.623162Z",
          "iopub.status.idle": "2023-07-25T14:13:00.631905Z",
          "shell.execute_reply": "2023-07-25T14:13:00.631070Z",
          "shell.execute_reply.started": "2023-07-25T14:13:00.623875Z"
        },
        "id": "KjSkdPMuD1YS",
        "trusted": true
      },
      "outputs": [],
      "source": [
        "data['TV_Pixels'] = data['TV_Pixels'].combine_first(missing_data['TV_Pixels'])"
      ]
    },
    {
      "cell_type": "code",
      "execution_count": 53,
      "metadata": {
        "execution": {
          "iopub.execute_input": "2023-07-25T14:13:00.690700Z",
          "iopub.status.busy": "2023-07-25T14:13:00.690354Z",
          "iopub.status.idle": "2023-07-25T14:13:00.702599Z",
          "shell.execute_reply": "2023-07-25T14:13:00.701531Z",
          "shell.execute_reply.started": "2023-07-25T14:13:00.690673Z"
        },
        "id": "TqXGyr6cD1YS",
        "trusted": true
      },
      "outputs": [],
      "source": [
        "data.dropna(inplace=True)"
      ]
    },
    {
      "cell_type": "code",
      "execution_count": 54,
      "metadata": {
        "execution": {
          "iopub.execute_input": "2023-07-25T14:13:00.738154Z",
          "iopub.status.busy": "2023-07-25T14:13:00.737746Z",
          "iopub.status.idle": "2023-07-25T14:13:00.747732Z",
          "shell.execute_reply": "2023-07-25T14:13:00.746766Z",
          "shell.execute_reply.started": "2023-07-25T14:13:00.738113Z"
        },
        "id": "nWr8FC-dD1YS",
        "trusted": true
      },
      "outputs": [],
      "source": [
        "data['Price'] = data['Price'].str.replace('[\\$,]', '', regex=True).astype(float)"
      ]
    },
    {
      "cell_type": "code",
      "execution_count": 55,
      "metadata": {
        "execution": {
          "iopub.execute_input": "2023-07-25T14:13:00.793228Z",
          "iopub.status.busy": "2023-07-25T14:13:00.792808Z",
          "iopub.status.idle": "2023-07-25T14:13:00.802497Z",
          "shell.execute_reply": "2023-07-25T14:13:00.801380Z",
          "shell.execute_reply.started": "2023-07-25T14:13:00.793195Z"
        },
        "id": "gvb3iO97D1YS",
        "trusted": true
      },
      "outputs": [],
      "source": [
        "data['discount'] = data['discount'].str.replace('[\\$,]', '', regex=True).astype(float)"
      ]
    },
    {
      "cell_type": "code",
      "execution_count": 56,
      "metadata": {
        "colab": {
          "base_uri": "https://localhost:8080/"
        },
        "execution": {
          "iopub.execute_input": "2023-07-25T14:13:00.848142Z",
          "iopub.status.busy": "2023-07-25T14:13:00.847741Z",
          "iopub.status.idle": "2023-07-25T14:13:00.861752Z",
          "shell.execute_reply": "2023-07-25T14:13:00.860548Z",
          "shell.execute_reply.started": "2023-07-25T14:13:00.848095Z"
        },
        "id": "lio0U1y_D1YT",
        "outputId": "b97fef27-776a-40ce-ef59-e4d0f2a443a2",
        "trusted": true
      },
      "outputs": [
        {
          "name": "stderr",
          "output_type": "stream",
          "text": [
            "<ipython-input-56-1ea64ad273bc>:1: FutureWarning: The default value of regex will change from True to False in a future version.\n",
            "  data['reviews'] = data['reviews'].str.replace(r'\\D', '').astype(int)\n"
          ]
        }
      ],
      "source": [
        "data['reviews'] = data['reviews'].str.replace(r'\\D', '').astype(int)"
      ]
    },
    {
      "cell_type": "markdown",
      "metadata": {
        "id": "BpcpCcMeD1YT"
      },
      "source": [
        "Visuals"
      ]
    },
    {
      "cell_type": "code",
      "execution_count": 57,
      "metadata": {
        "colab": {
          "base_uri": "https://localhost:8080/"
        },
        "execution": {
          "iopub.execute_input": "2023-07-25T14:13:00.973949Z",
          "iopub.status.busy": "2023-07-25T14:13:00.973529Z",
          "iopub.status.idle": "2023-07-25T14:13:14.024146Z",
          "shell.execute_reply": "2023-07-25T14:13:14.022633Z",
          "shell.execute_reply.started": "2023-07-25T14:13:00.973915Z"
        },
        "id": "JqC04ZkaD1YT",
        "outputId": "4d4ef243-3804-46f4-89ea-4774cbf8404c",
        "trusted": true
      },
      "outputs": [
        {
          "name": "stdout",
          "output_type": "stream",
          "text": [
            "Requirement already satisfied: matplotlib in /usr/local/lib/python3.10/dist-packages (3.7.1)\n",
            "Requirement already satisfied: seaborn in /usr/local/lib/python3.10/dist-packages (0.12.2)\n",
            "Requirement already satisfied: contourpy>=1.0.1 in /usr/local/lib/python3.10/dist-packages (from matplotlib) (1.1.0)\n",
            "Requirement already satisfied: cycler>=0.10 in /usr/local/lib/python3.10/dist-packages (from matplotlib) (0.11.0)\n",
            "Requirement already satisfied: fonttools>=4.22.0 in /usr/local/lib/python3.10/dist-packages (from matplotlib) (4.41.1)\n",
            "Requirement already satisfied: kiwisolver>=1.0.1 in /usr/local/lib/python3.10/dist-packages (from matplotlib) (1.4.4)\n",
            "Requirement already satisfied: numpy>=1.20 in /usr/local/lib/python3.10/dist-packages (from matplotlib) (1.22.4)\n",
            "Requirement already satisfied: packaging>=20.0 in /usr/local/lib/python3.10/dist-packages (from matplotlib) (23.1)\n",
            "Requirement already satisfied: pillow>=6.2.0 in /usr/local/lib/python3.10/dist-packages (from matplotlib) (9.4.0)\n",
            "Requirement already satisfied: pyparsing>=2.3.1 in /usr/local/lib/python3.10/dist-packages (from matplotlib) (3.1.0)\n",
            "Requirement already satisfied: python-dateutil>=2.7 in /usr/local/lib/python3.10/dist-packages (from matplotlib) (2.8.2)\n",
            "Requirement already satisfied: pandas>=0.25 in /usr/local/lib/python3.10/dist-packages (from seaborn) (1.5.3)\n",
            "Requirement already satisfied: pytz>=2020.1 in /usr/local/lib/python3.10/dist-packages (from pandas>=0.25->seaborn) (2022.7.1)\n",
            "Requirement already satisfied: six>=1.5 in /usr/local/lib/python3.10/dist-packages (from python-dateutil>=2.7->matplotlib) (1.16.0)\n"
          ]
        }
      ],
      "source": [
        "pip install matplotlib seaborn"
      ]
    },
    {
      "cell_type": "code",
      "execution_count": 58,
      "metadata": {
        "execution": {
          "iopub.execute_input": "2023-07-25T14:13:14.028249Z",
          "iopub.status.busy": "2023-07-25T14:13:14.027656Z",
          "iopub.status.idle": "2023-07-25T14:13:14.034031Z",
          "shell.execute_reply": "2023-07-25T14:13:14.032797Z",
          "shell.execute_reply.started": "2023-07-25T14:13:14.028205Z"
        },
        "id": "bFnS4_a4D1YT",
        "trusted": true
      },
      "outputs": [],
      "source": [
        "import seaborn as sns\n",
        "import matplotlib.pyplot as plt"
      ]
    },
    {
      "cell_type": "code",
      "execution_count": 59,
      "metadata": {
        "colab": {
          "base_uri": "https://localhost:8080/"
        },
        "execution": {
          "iopub.execute_input": "2023-07-25T14:13:14.036071Z",
          "iopub.status.busy": "2023-07-25T14:13:14.035694Z",
          "iopub.status.idle": "2023-07-25T14:13:14.052130Z",
          "shell.execute_reply": "2023-07-25T14:13:14.051178Z",
          "shell.execute_reply.started": "2023-07-25T14:13:14.036042Z"
        },
        "id": "wHKwItigD1YT",
        "outputId": "209689b5-e7b5-4b1c-c046-8ee3542b9bf7",
        "trusted": true
      },
      "outputs": [
        {
          "data": {
            "text/plain": [
              "description     object\n",
              "reviews          int64\n",
              "Price          float64\n",
              "discount       float64\n",
              "Brand           object\n",
              "TV_Size         object\n",
              "TV_Type        float64\n",
              "TV_Pixels       object\n",
              "dtype: object"
            ]
          },
          "execution_count": 59,
          "metadata": {},
          "output_type": "execute_result"
        }
      ],
      "source": [
        "data.dtypes"
      ]
    },
    {
      "cell_type": "code",
      "execution_count": 60,
      "metadata": {
        "colab": {
          "base_uri": "https://localhost:8080/",
          "height": 112
        },
        "execution": {
          "iopub.execute_input": "2023-07-25T14:13:14.055435Z",
          "iopub.status.busy": "2023-07-25T14:13:14.055127Z",
          "iopub.status.idle": "2023-07-25T14:13:14.075964Z",
          "shell.execute_reply": "2023-07-25T14:13:14.075180Z",
          "shell.execute_reply.started": "2023-07-25T14:13:14.055409Z"
        },
        "id": "AejP3lahD1YU",
        "outputId": "c3d798c4-900e-42d5-b918-c50e4454b9f2",
        "trusted": true
      },
      "outputs": [
        {
          "data": {
            "text/html": [
              "\n",
              "\n",
              "  <div id=\"df-021eedd6-9cc6-4c1e-b913-7fd3d3371f94\">\n",
              "    <div class=\"colab-df-container\">\n",
              "      <div>\n",
              "<style scoped>\n",
              "    .dataframe tbody tr th:only-of-type {\n",
              "        vertical-align: middle;\n",
              "    }\n",
              "\n",
              "    .dataframe tbody tr th {\n",
              "        vertical-align: top;\n",
              "    }\n",
              "\n",
              "    .dataframe thead th {\n",
              "        text-align: right;\n",
              "    }\n",
              "</style>\n",
              "<table border=\"1\" class=\"dataframe\">\n",
              "  <thead>\n",
              "    <tr style=\"text-align: right;\">\n",
              "      <th></th>\n",
              "      <th>description</th>\n",
              "      <th>reviews</th>\n",
              "      <th>Price</th>\n",
              "      <th>discount</th>\n",
              "      <th>Brand</th>\n",
              "      <th>TV_Size</th>\n",
              "      <th>TV_Type</th>\n",
              "      <th>TV_Pixels</th>\n",
              "    </tr>\n",
              "  </thead>\n",
              "  <tbody>\n",
              "    <tr>\n",
              "      <th>2</th>\n",
              "      <td>Samsung 55 4K UHD HDR LED Tizen Smart TV (UN55...</td>\n",
              "      <td>40</td>\n",
              "      <td>599.99</td>\n",
              "      <td>15.5</td>\n",
              "      <td>Samsung</td>\n",
              "      <td>LED</td>\n",
              "      <td>55.0</td>\n",
              "      <td>4K</td>\n",
              "    </tr>\n",
              "    <tr>\n",
              "      <th>3</th>\n",
              "      <td>Samsung 43 4K UHD HDR LED Tizen Smart TV (UN43...</td>\n",
              "      <td>1015</td>\n",
              "      <td>399.99</td>\n",
              "      <td>12.2</td>\n",
              "      <td>Samsung</td>\n",
              "      <td>LED</td>\n",
              "      <td>43.0</td>\n",
              "      <td>4K</td>\n",
              "    </tr>\n",
              "  </tbody>\n",
              "</table>\n",
              "</div>\n",
              "      <button class=\"colab-df-convert\" onclick=\"convertToInteractive('df-021eedd6-9cc6-4c1e-b913-7fd3d3371f94')\"\n",
              "              title=\"Convert this dataframe to an interactive table.\"\n",
              "              style=\"display:none;\">\n",
              "\n",
              "  <svg xmlns=\"http://www.w3.org/2000/svg\" height=\"24px\"viewBox=\"0 0 24 24\"\n",
              "       width=\"24px\">\n",
              "    <path d=\"M0 0h24v24H0V0z\" fill=\"none\"/>\n",
              "    <path d=\"M18.56 5.44l.94 2.06.94-2.06 2.06-.94-2.06-.94-.94-2.06-.94 2.06-2.06.94zm-11 1L8.5 8.5l.94-2.06 2.06-.94-2.06-.94L8.5 2.5l-.94 2.06-2.06.94zm10 10l.94 2.06.94-2.06 2.06-.94-2.06-.94-.94-2.06-.94 2.06-2.06.94z\"/><path d=\"M17.41 7.96l-1.37-1.37c-.4-.4-.92-.59-1.43-.59-.52 0-1.04.2-1.43.59L10.3 9.45l-7.72 7.72c-.78.78-.78 2.05 0 2.83L4 21.41c.39.39.9.59 1.41.59.51 0 1.02-.2 1.41-.59l7.78-7.78 2.81-2.81c.8-.78.8-2.07 0-2.86zM5.41 20L4 18.59l7.72-7.72 1.47 1.35L5.41 20z\"/>\n",
              "  </svg>\n",
              "      </button>\n",
              "\n",
              "\n",
              "\n",
              "    <div id=\"df-d58285f1-b68b-425b-963b-fbab31e94ea4\">\n",
              "      <button class=\"colab-df-quickchart\" onclick=\"quickchart('df-d58285f1-b68b-425b-963b-fbab31e94ea4')\"\n",
              "              title=\"Suggest charts.\"\n",
              "              style=\"display:none;\">\n",
              "\n",
              "<svg xmlns=\"http://www.w3.org/2000/svg\" height=\"24px\"viewBox=\"0 0 24 24\"\n",
              "     width=\"24px\">\n",
              "    <g>\n",
              "        <path d=\"M19 3H5c-1.1 0-2 .9-2 2v14c0 1.1.9 2 2 2h14c1.1 0 2-.9 2-2V5c0-1.1-.9-2-2-2zM9 17H7v-7h2v7zm4 0h-2V7h2v10zm4 0h-2v-4h2v4z\"/>\n",
              "    </g>\n",
              "</svg>\n",
              "      </button>\n",
              "    </div>\n",
              "\n",
              "<style>\n",
              "  .colab-df-quickchart {\n",
              "    background-color: #E8F0FE;\n",
              "    border: none;\n",
              "    border-radius: 50%;\n",
              "    cursor: pointer;\n",
              "    display: none;\n",
              "    fill: #1967D2;\n",
              "    height: 32px;\n",
              "    padding: 0 0 0 0;\n",
              "    width: 32px;\n",
              "  }\n",
              "\n",
              "  .colab-df-quickchart:hover {\n",
              "    background-color: #E2EBFA;\n",
              "    box-shadow: 0px 1px 2px rgba(60, 64, 67, 0.3), 0px 1px 3px 1px rgba(60, 64, 67, 0.15);\n",
              "    fill: #174EA6;\n",
              "  }\n",
              "\n",
              "  [theme=dark] .colab-df-quickchart {\n",
              "    background-color: #3B4455;\n",
              "    fill: #D2E3FC;\n",
              "  }\n",
              "\n",
              "  [theme=dark] .colab-df-quickchart:hover {\n",
              "    background-color: #434B5C;\n",
              "    box-shadow: 0px 1px 3px 1px rgba(0, 0, 0, 0.15);\n",
              "    filter: drop-shadow(0px 1px 2px rgba(0, 0, 0, 0.3));\n",
              "    fill: #FFFFFF;\n",
              "  }\n",
              "</style>\n",
              "\n",
              "    <script>\n",
              "      async function quickchart(key) {\n",
              "        const containerElement = document.querySelector('#' + key);\n",
              "        const charts = await google.colab.kernel.invokeFunction(\n",
              "            'suggestCharts', [key], {});\n",
              "      }\n",
              "    </script>\n",
              "\n",
              "      <script>\n",
              "\n",
              "function displayQuickchartButton(domScope) {\n",
              "  let quickchartButtonEl =\n",
              "    domScope.querySelector('#df-d58285f1-b68b-425b-963b-fbab31e94ea4 button.colab-df-quickchart');\n",
              "  quickchartButtonEl.style.display =\n",
              "    google.colab.kernel.accessAllowed ? 'block' : 'none';\n",
              "}\n",
              "\n",
              "        displayQuickchartButton(document);\n",
              "      </script>\n",
              "      <style>\n",
              "    .colab-df-container {\n",
              "      display:flex;\n",
              "      flex-wrap:wrap;\n",
              "      gap: 12px;\n",
              "    }\n",
              "\n",
              "    .colab-df-convert {\n",
              "      background-color: #E8F0FE;\n",
              "      border: none;\n",
              "      border-radius: 50%;\n",
              "      cursor: pointer;\n",
              "      display: none;\n",
              "      fill: #1967D2;\n",
              "      height: 32px;\n",
              "      padding: 0 0 0 0;\n",
              "      width: 32px;\n",
              "    }\n",
              "\n",
              "    .colab-df-convert:hover {\n",
              "      background-color: #E2EBFA;\n",
              "      box-shadow: 0px 1px 2px rgba(60, 64, 67, 0.3), 0px 1px 3px 1px rgba(60, 64, 67, 0.15);\n",
              "      fill: #174EA6;\n",
              "    }\n",
              "\n",
              "    [theme=dark] .colab-df-convert {\n",
              "      background-color: #3B4455;\n",
              "      fill: #D2E3FC;\n",
              "    }\n",
              "\n",
              "    [theme=dark] .colab-df-convert:hover {\n",
              "      background-color: #434B5C;\n",
              "      box-shadow: 0px 1px 3px 1px rgba(0, 0, 0, 0.15);\n",
              "      filter: drop-shadow(0px 1px 2px rgba(0, 0, 0, 0.3));\n",
              "      fill: #FFFFFF;\n",
              "    }\n",
              "  </style>\n",
              "\n",
              "      <script>\n",
              "        const buttonEl =\n",
              "          document.querySelector('#df-021eedd6-9cc6-4c1e-b913-7fd3d3371f94 button.colab-df-convert');\n",
              "        buttonEl.style.display =\n",
              "          google.colab.kernel.accessAllowed ? 'block' : 'none';\n",
              "\n",
              "        async function convertToInteractive(key) {\n",
              "          const element = document.querySelector('#df-021eedd6-9cc6-4c1e-b913-7fd3d3371f94');\n",
              "          const dataTable =\n",
              "            await google.colab.kernel.invokeFunction('convertToInteractive',\n",
              "                                                     [key], {});\n",
              "          if (!dataTable) return;\n",
              "\n",
              "          const docLinkHtml = 'Like what you see? Visit the ' +\n",
              "            '<a target=\"_blank\" href=https://colab.research.google.com/notebooks/data_table.ipynb>data table notebook</a>'\n",
              "            + ' to learn more about interactive tables.';\n",
              "          element.innerHTML = '';\n",
              "          dataTable['output_type'] = 'display_data';\n",
              "          await google.colab.output.renderOutput(dataTable, element);\n",
              "          const docLink = document.createElement('div');\n",
              "          docLink.innerHTML = docLinkHtml;\n",
              "          element.appendChild(docLink);\n",
              "        }\n",
              "      </script>\n",
              "    </div>\n",
              "  </div>\n"
            ],
            "text/plain": [
              "                                         description  reviews   Price  \\\n",
              "2  Samsung 55 4K UHD HDR LED Tizen Smart TV (UN55...       40  599.99   \n",
              "3  Samsung 43 4K UHD HDR LED Tizen Smart TV (UN43...     1015  399.99   \n",
              "\n",
              "   discount                 Brand TV_Size  TV_Type TV_Pixels  \n",
              "2      15.5  Samsung                  LED     55.0        4K  \n",
              "3      12.2  Samsung                  LED     43.0        4K  "
            ]
          },
          "execution_count": 60,
          "metadata": {},
          "output_type": "execute_result"
        }
      ],
      "source": [
        "data.head(2)"
      ]
    },
    {
      "cell_type": "code",
      "execution_count": 61,
      "metadata": {
        "execution": {
          "iopub.execute_input": "2023-07-25T14:13:14.077805Z",
          "iopub.status.busy": "2023-07-25T14:13:14.077056Z",
          "iopub.status.idle": "2023-07-25T14:13:14.082889Z",
          "shell.execute_reply": "2023-07-25T14:13:14.082089Z",
          "shell.execute_reply.started": "2023-07-25T14:13:14.077773Z"
        },
        "id": "OwzUEJsTD1YU",
        "trusted": true
      },
      "outputs": [],
      "source": [
        "data['discount'] = data['discount'].astype(float)\n",
        "data['TV_Type'] = data['TV_Type'].astype(float)\n"
      ]
    },
    {
      "cell_type": "code",
      "execution_count": 62,
      "metadata": {
        "colab": {
          "base_uri": "https://localhost:8080/",
          "height": 491
        },
        "execution": {
          "iopub.execute_input": "2023-07-25T14:13:14.084527Z",
          "iopub.status.busy": "2023-07-25T14:13:14.084048Z",
          "iopub.status.idle": "2023-07-25T14:13:14.427256Z",
          "shell.execute_reply": "2023-07-25T14:13:14.426149Z",
          "shell.execute_reply.started": "2023-07-25T14:13:14.084498Z"
        },
        "id": "T_3U5j9yD1YU",
        "outputId": "a1590892-ca55-45c9-bb64-e3da98e54eb7",
        "trusted": true
      },
      "outputs": [
        {
          "name": "stderr",
          "output_type": "stream",
          "text": [
            "<ipython-input-62-9fa67090a602>:1: FutureWarning: The default value of numeric_only in DataFrame.corr is deprecated. In a future version, it will default to False. Select only valid columns or specify the value of numeric_only to silence this warning.\n",
            "  sns.heatmap(data.corr(), annot=True)\n"
          ]
        },
        {
          "data": {
            "image/png": "[encoded data removed]",
            "text/plain": [
              "<Figure size 640x480 with 2 Axes>"
            ]
          },
          "metadata": {},
          "output_type": "display_data"
        }
      ],
      "source": [
        "sns.heatmap(data.corr(), annot=True)\n",
        "plt.show()"
      ]
    },
    {
      "cell_type": "code",
      "execution_count": 63,
      "metadata": {
        "colab": {
          "base_uri": "https://localhost:8080/",
          "height": 449
        },
        "execution": {
          "iopub.execute_input": "2023-07-25T14:13:14.428898Z",
          "iopub.status.busy": "2023-07-25T14:13:14.428580Z",
          "iopub.status.idle": "2023-07-25T14:13:14.934167Z",
          "shell.execute_reply": "2023-07-25T14:13:14.932969Z",
          "shell.execute_reply.started": "2023-07-25T14:13:14.428869Z"
        },
        "id": "UJpRVmAxD1Yc",
        "outputId": "ce4160b2-5af5-40a5-f56b-03c0bbcd7133",
        "trusted": true
      },
      "outputs": [
        {
          "data": {
            "image/png": "[encoded data removed]",
            "text/plain": [
              "<Figure size 640x480 with 1 Axes>"
            ]
          },
          "metadata": {},
          "output_type": "display_data"
        }
      ],
      "source": [
        "sns.scatterplot(x='reviews', y='Price', hue='TV_Type', data=data)\n",
        "plt.show()"
      ]
    },
    {
      "cell_type": "code",
      "execution_count": 64,
      "metadata": {
        "colab": {
          "base_uri": "https://localhost:8080/",
          "height": 449
        },
        "execution": {
          "iopub.execute_input": "2023-07-25T14:13:14.936167Z",
          "iopub.status.busy": "2023-07-25T14:13:14.935722Z",
          "iopub.status.idle": "2023-07-25T14:13:15.249712Z",
          "shell.execute_reply": "2023-07-25T14:13:15.248539Z",
          "shell.execute_reply.started": "2023-07-25T14:13:14.936128Z"
        },
        "id": "f7VNoKfGD1Yd",
        "outputId": "ff55f76c-014c-4b37-d0fa-5a69888c6abe",
        "trusted": true
      },
      "outputs": [
        {
          "data": {
            "image/png": "[encoded data removed]",
            "text/plain": [
              "<Figure size 640x480 with 1 Axes>"
            ]
          },
          "metadata": {},
          "output_type": "display_data"
        }
      ],
      "source": [
        "sns.histplot(data['Price'], bins=20, kde=True)\n",
        "plt.show()"
      ]
    },
    {
      "cell_type": "code",
      "execution_count": 65,
      "metadata": {
        "colab": {
          "base_uri": "https://localhost:8080/",
          "height": 450
        },
        "execution": {
          "iopub.execute_input": "2023-07-25T14:13:15.251353Z",
          "iopub.status.busy": "2023-07-25T14:13:15.251033Z",
          "iopub.status.idle": "2023-07-25T14:13:15.753223Z",
          "shell.execute_reply": "2023-07-25T14:13:15.752084Z",
          "shell.execute_reply.started": "2023-07-25T14:13:15.251323Z"
        },
        "id": "yq3XRkrpD1Yd",
        "outputId": "bacf5dc8-ce86-4fbd-8bf4-ca5113b94771",
        "trusted": true
      },
      "outputs": [
        {
          "data": {
            "image/png": "[encoded data removed]",
            "text/plain": [
              "<Figure size 640x480 with 1 Axes>"
            ]
          },
          "metadata": {},
          "output_type": "display_data"
        }
      ],
      "source": [
        "sns.barplot(x='TV_Pixels', y='Price', data=data)\n",
        "plt.show()"
      ]
    },
    {
      "cell_type": "code",
      "execution_count": 66,
      "metadata": {
        "colab": {
          "base_uri": "https://localhost:8080/",
          "height": 757
        },
        "execution": {
          "iopub.execute_input": "2023-07-25T14:13:15.757803Z",
          "iopub.status.busy": "2023-07-25T14:13:15.757457Z",
          "iopub.status.idle": "2023-07-25T14:13:21.075470Z",
          "shell.execute_reply": "2023-07-25T14:13:21.074336Z",
          "shell.execute_reply.started": "2023-07-25T14:13:15.757773Z"
        },
        "id": "bf5H3WNiD1Ye",
        "outputId": "fafde916-1aaa-46c9-e4bb-7d9974b6fdee",
        "trusted": true
      },
      "outputs": [
        {
          "data": {
            "image/png": "[encoded data removed]",
            "text/plain": [
              "<Figure size 818.111x750 with 12 Axes>"
            ]
          },
          "metadata": {},
          "output_type": "display_data"
        }
      ],
      "source": [
        "sns.pairplot(data[['reviews', 'Price', 'discount', 'TV_Size', 'TV_Type']], diag_kind='kde', markers='o', hue='TV_Type')\n",
        "plt.show()"
      ]
    },
    {
      "cell_type": "markdown",
      "metadata": {
        "id": "Eg_dEgqKD1Ye"
      },
      "source": [
        "Removing Outliers"
      ]
    },
    {
      "cell_type": "code",
      "execution_count": 67,
      "metadata": {
        "colab": {
          "base_uri": "https://localhost:8080/"
        },
        "execution": {
          "iopub.execute_input": "2023-07-25T14:13:21.077357Z",
          "iopub.status.busy": "2023-07-25T14:13:21.076924Z",
          "iopub.status.idle": "2023-07-25T14:13:21.089498Z",
          "shell.execute_reply": "2023-07-25T14:13:21.088238Z",
          "shell.execute_reply.started": "2023-07-25T14:13:21.077309Z"
        },
        "id": "t1q34Z52D1Ye",
        "outputId": "a4902a6c-ad6b-4c55-d64a-e5f98bd8dc8c",
        "trusted": true
      },
      "outputs": [
        {
          "name": "stdout",
          "output_type": "stream",
          "text": [
            "                                           description  reviews     Price  \\\n",
            "162  Samsung 98 8K UHD HDR QLED Tizen Smart TV (QN9...      161  99999.99   \n",
            "985  Samsung 98 8K UHD HDR QLED Tizen Smart TV (QN9...      161  99999.99   \n",
            "\n",
            "     discount                 Brand TV_Size  TV_Type TV_Pixels  \n",
            "162    3000.0  Samsung                  LED     98.0        8K  \n",
            "985    3000.0  Samsung                  LED     98.0        8K  \n"
          ]
        }
      ],
      "source": [
        "rows_above_90k = data[data['Price'] > 90000]\n",
        "print(rows_above_90k)"
      ]
    },
    {
      "cell_type": "code",
      "execution_count": 68,
      "metadata": {
        "execution": {
          "iopub.execute_input": "2023-07-25T14:13:21.092142Z",
          "iopub.status.busy": "2023-07-25T14:13:21.091697Z",
          "iopub.status.idle": "2023-07-25T14:13:21.109883Z",
          "shell.execute_reply": "2023-07-25T14:13:21.108666Z",
          "shell.execute_reply.started": "2023-07-25T14:13:21.092081Z"
        },
        "id": "PmYqd9rLD1Yf",
        "trusted": true
      },
      "outputs": [],
      "source": [
        "data = data.drop([162, 985])"
      ]
    },
    {
      "cell_type": "code",
      "execution_count": 69,
      "metadata": {
        "execution": {
          "iopub.execute_input": "2023-07-25T14:13:21.112096Z",
          "iopub.status.busy": "2023-07-25T14:13:21.111670Z",
          "iopub.status.idle": "2023-07-25T14:13:21.123538Z",
          "shell.execute_reply": "2023-07-25T14:13:21.122489Z",
          "shell.execute_reply.started": "2023-07-25T14:13:21.112057Z"
        },
        "id": "iIR061QGD1Yf",
        "trusted": true
      },
      "outputs": [],
      "source": [
        "data1 = data[['Price', 'TV_Type']]"
      ]
    },
    {
      "cell_type": "code",
      "execution_count": 70,
      "metadata": {
        "execution": {
          "iopub.execute_input": "2023-07-25T14:13:21.125417Z",
          "iopub.status.busy": "2023-07-25T14:13:21.124960Z",
          "iopub.status.idle": "2023-07-25T14:13:21.137530Z",
          "shell.execute_reply": "2023-07-25T14:13:21.136594Z",
          "shell.execute_reply.started": "2023-07-25T14:13:21.125376Z"
        },
        "id": "6_zwmVYXD1Yf",
        "trusted": true
      },
      "outputs": [],
      "source": [
        "from sklearn.cluster import KMeans\n",
        "from sklearn.preprocessing import StandardScaler"
      ]
    },
    {
      "cell_type": "code",
      "execution_count": 71,
      "metadata": {
        "execution": {
          "iopub.execute_input": "2023-07-25T14:13:21.139353Z",
          "iopub.status.busy": "2023-07-25T14:13:21.138947Z",
          "iopub.status.idle": "2023-07-25T14:13:21.154752Z",
          "shell.execute_reply": "2023-07-25T14:13:21.153662Z",
          "shell.execute_reply.started": "2023-07-25T14:13:21.139320Z"
        },
        "id": "KfBkX0UaD1Yg",
        "trusted": true
      },
      "outputs": [],
      "source": [
        "scaler = StandardScaler()\n",
        "scaled_features = scaler.fit_transform(data1)"
      ]
    },
    {
      "cell_type": "code",
      "execution_count": 72,
      "metadata": {
        "colab": {
          "base_uri": "https://localhost:8080/",
          "height": 854
        },
        "execution": {
          "iopub.execute_input": "2023-07-25T14:13:21.156947Z",
          "iopub.status.busy": "2023-07-25T14:13:21.156253Z",
          "iopub.status.idle": "2023-07-25T14:13:21.942674Z",
          "shell.execute_reply": "2023-07-25T14:13:21.941519Z",
          "shell.execute_reply.started": "2023-07-25T14:13:21.156915Z"
        },
        "id": "jR7FeNTtD1Yg",
        "outputId": "ba82ba60-3be5-4e4b-ec74-ce93520c5ad6",
        "trusted": true
      },
      "outputs": [
        {
          "name": "stderr",
          "output_type": "stream",
          "text": [
            "/usr/local/lib/python3.10/dist-packages/sklearn/cluster/_kmeans.py:870: FutureWarning: The default value of `n_init` will change from 10 to 'auto' in 1.4. Set the value of `n_init` explicitly to suppress the warning\n",
            "  warnings.warn(\n",
            "/usr/local/lib/python3.10/dist-packages/sklearn/cluster/_kmeans.py:870: FutureWarning: The default value of `n_init` will change from 10 to 'auto' in 1.4. Set the value of `n_init` explicitly to suppress the warning\n",
            "  warnings.warn(\n",
            "/usr/local/lib/python3.10/dist-packages/sklearn/cluster/_kmeans.py:870: FutureWarning: The default value of `n_init` will change from 10 to 'auto' in 1.4. Set the value of `n_init` explicitly to suppress the warning\n",
            "  warnings.warn(\n",
            "/usr/local/lib/python3.10/dist-packages/sklearn/cluster/_kmeans.py:870: FutureWarning: The default value of `n_init` will change from 10 to 'auto' in 1.4. Set the value of `n_init` explicitly to suppress the warning\n",
            "  warnings.warn(\n",
            "/usr/local/lib/python3.10/dist-packages/sklearn/cluster/_kmeans.py:870: FutureWarning: The default value of `n_init` will change from 10 to 'auto' in 1.4. Set the value of `n_init` explicitly to suppress the warning\n",
            "  warnings.warn(\n",
            "/usr/local/lib/python3.10/dist-packages/sklearn/cluster/_kmeans.py:870: FutureWarning: The default value of `n_init` will change from 10 to 'auto' in 1.4. Set the value of `n_init` explicitly to suppress the warning\n",
            "  warnings.warn(\n",
            "/usr/local/lib/python3.10/dist-packages/sklearn/cluster/_kmeans.py:870: FutureWarning: The default value of `n_init` will change from 10 to 'auto' in 1.4. Set the value of `n_init` explicitly to suppress the warning\n",
            "  warnings.warn(\n",
            "/usr/local/lib/python3.10/dist-packages/sklearn/cluster/_kmeans.py:870: FutureWarning: The default value of `n_init` will change from 10 to 'auto' in 1.4. Set the value of `n_init` explicitly to suppress the warning\n",
            "  warnings.warn(\n",
            "/usr/local/lib/python3.10/dist-packages/sklearn/cluster/_kmeans.py:870: FutureWarning: The default value of `n_init` will change from 10 to 'auto' in 1.4. Set the value of `n_init` explicitly to suppress the warning\n",
            "  warnings.warn(\n",
            "/usr/local/lib/python3.10/dist-packages/sklearn/cluster/_kmeans.py:870: FutureWarning: The default value of `n_init` will change from 10 to 'auto' in 1.4. Set the value of `n_init` explicitly to suppress the warning\n",
            "  warnings.warn(\n"
          ]
        },
        {
          "data": {
            "image/png": "[encoded data removed]",
            "text/plain": [
              "<Figure size 640x480 with 1 Axes>"
            ]
          },
          "metadata": {},
          "output_type": "display_data"
        }
      ],
      "source": [
        "# Determine the optimal number of clusters using the elbow method\n",
        "inertia = []\n",
        "for k in range(1, 11):\n",
        "    kmeans = KMeans(n_clusters=k, random_state=42)\n",
        "    kmeans.fit(scaled_features)\n",
        "    inertia.append(kmeans.inertia_)\n",
        "\n",
        "# Plot the elbow curve to find the optimal number of clusters\n",
        "plt.plot(range(1, 11), inertia, marker='o')\n",
        "plt.xlabel('Number of Clusters (K)')\n",
        "plt.ylabel('Inertia')\n",
        "plt.title('Elbow Method for Optimal K')\n",
        "plt.show()"
      ]
    },
    {
      "cell_type": "code",
      "execution_count": 73,
      "metadata": {
        "colab": {
          "base_uri": "https://localhost:8080/",
          "height": 130
        },
        "execution": {
          "iopub.execute_input": "2023-07-25T14:13:21.945020Z",
          "iopub.status.busy": "2023-07-25T14:13:21.944405Z",
          "iopub.status.idle": "2023-07-25T14:13:22.006690Z",
          "shell.execute_reply": "2023-07-25T14:13:22.005835Z",
          "shell.execute_reply.started": "2023-07-25T14:13:21.944988Z"
        },
        "id": "lMlxECcSD1Yh",
        "outputId": "f5ad1a85-5938-4f7b-e174-66ec1e358d82",
        "trusted": true
      },
      "outputs": [
        {
          "name": "stderr",
          "output_type": "stream",
          "text": [
            "/usr/local/lib/python3.10/dist-packages/sklearn/cluster/_kmeans.py:870: FutureWarning: The default value of `n_init` will change from 10 to 'auto' in 1.4. Set the value of `n_init` explicitly to suppress the warning\n",
            "  warnings.warn(\n"
          ]
        },
        {
          "data": {
            "text/html": [
              "<style>#sk-container-id-1 {color: black;background-color: white;}#sk-container-id-1 pre{padding: 0;}#sk-container-id-1 div.sk-toggleable {background-color: white;}#sk-container-id-1 label.sk-toggleable__label {cursor: pointer;display: block;width: 100%;margin-bottom: 0;padding: 0.3em;box-sizing: border-box;text-align: center;}#sk-container-id-1 label.sk-toggleable__label-arrow:before {content: \"▸\";float: left;margin-right: 0.25em;color: #696969;}#sk-container-id-1 label.sk-toggleable__label-arrow:hover:before {color: black;}#sk-container-id-1 div.sk-estimator:hover label.sk-toggleable__label-arrow:before {color: black;}#sk-container-id-1 div.sk-toggleable__content {max-height: 0;max-width: 0;overflow: hidden;text-align: left;background-color: #f0f8ff;}#sk-container-id-1 div.sk-toggleable__content pre {margin: 0.2em;color: black;border-radius: 0.25em;background-color: #f0f8ff;}#sk-container-id-1 input.sk-toggleable__control:checked~div.sk-toggleable__content {max-height: 200px;max-width: 100%;overflow: auto;}#sk-container-id-1 input.sk-toggleable__control:checked~label.sk-toggleable__label-arrow:before {content: \"▾\";}#sk-container-id-1 div.sk-estimator input.sk-toggleable__control:checked~label.sk-toggleable__label {background-color: #d4ebff;}#sk-container-id-1 div.sk-label input.sk-toggleable__control:checked~label.sk-toggleable__label {background-color: #d4ebff;}#sk-container-id-1 input.sk-hidden--visually {border: 0;clip: rect(1px 1px 1px 1px);clip: rect(1px, 1px, 1px, 1px);height: 1px;margin: -1px;overflow: hidden;padding: 0;position: absolute;width: 1px;}#sk-container-id-1 div.sk-estimator {font-family: monospace;background-color: #f0f8ff;border: 1px dotted black;border-radius: 0.25em;box-sizing: border-box;margin-bottom: 0.5em;}#sk-container-id-1 div.sk-estimator:hover {background-color: #d4ebff;}#sk-container-id-1 div.sk-parallel-item::after {content: \"\";width: 100%;border-bottom: 1px solid gray;flex-grow: 1;}#sk-container-id-1 div.sk-label:hover label.sk-toggleable__label {background-color: #d4ebff;}#sk-container-id-1 div.sk-serial::before {content: \"\";position: absolute;border-left: 1px solid gray;box-sizing: border-box;top: 0;bottom: 0;left: 50%;z-index: 0;}#sk-container-id-1 div.sk-serial {display: flex;flex-direction: column;align-items: center;background-color: white;padding-right: 0.2em;padding-left: 0.2em;position: relative;}#sk-container-id-1 div.sk-item {position: relative;z-index: 1;}#sk-container-id-1 div.sk-parallel {display: flex;align-items: stretch;justify-content: center;background-color: white;position: relative;}#sk-container-id-1 div.sk-item::before, #sk-container-id-1 div.sk-parallel-item::before {content: \"\";position: absolute;border-left: 1px solid gray;box-sizing: border-box;top: 0;bottom: 0;left: 50%;z-index: -1;}#sk-container-id-1 div.sk-parallel-item {display: flex;flex-direction: column;z-index: 1;position: relative;background-color: white;}#sk-container-id-1 div.sk-parallel-item:first-child::after {align-self: flex-end;width: 50%;}#sk-container-id-1 div.sk-parallel-item:last-child::after {align-self: flex-start;width: 50%;}#sk-container-id-1 div.sk-parallel-item:only-child::after {width: 0;}#sk-container-id-1 div.sk-dashed-wrapped {border: 1px dashed gray;margin: 0 0.4em 0.5em 0.4em;box-sizing: border-box;padding-bottom: 0.4em;background-color: white;}#sk-container-id-1 div.sk-label label {font-family: monospace;font-weight: bold;display: inline-block;line-height: 1.2em;}#sk-container-id-1 div.sk-label-container {text-align: center;}#sk-container-id-1 div.sk-container {/* jupyter's `normalize.less` sets `[hidden] { display: none; }` but bootstrap.min.css set `[hidden] { display: none !important; }` so we also need the `!important` here to be able to override the default hidden behavior on the sphinx rendered scikit-learn.org. See: https://github.com/scikit-learn/scikit-learn/issues/21755 */display: inline-block !important;position: relative;}#sk-container-id-1 div.sk-text-repr-fallback {display: none;}</style><div id=\"sk-container-id-1\" class=\"sk-top-container\"><div class=\"sk-text-repr-fallback\"><pre>KMeans(n_clusters=6, random_state=42)</pre><b>In a Jupyter environment, please rerun this cell to show the HTML representation or trust the notebook. <br />On GitHub, the HTML representation is unable to render, please try loading this page with nbviewer.org.</b></div><div class=\"sk-container\" hidden><div class=\"sk-item\"><div class=\"sk-estimator sk-toggleable\"><input class=\"sk-toggleable__control sk-hidden--visually\" id=\"sk-estimator-id-1\" type=\"checkbox\" checked><label for=\"sk-estimator-id-1\" class=\"sk-toggleable__label sk-toggleable__label-arrow\">KMeans</label><div class=\"sk-toggleable__content\"><pre>KMeans(n_clusters=6, random_state=42)</pre></div></div></div></div></div>"
            ],
            "text/plain": [
              "KMeans(n_clusters=6, random_state=42)"
            ]
          },
          "execution_count": 73,
          "metadata": {},
          "output_type": "execute_result"
        }
      ],
      "source": [
        "# From the elbow plot, choose the number of clusters (K) and perform K-means clustering\n",
        "k = 6  # Choose the optimal K from the elbow plot\n",
        "kmeans = KMeans(n_clusters=k, random_state=42)\n",
        "kmeans.fit(scaled_features)"
      ]
    },
    {
      "cell_type": "code",
      "execution_count": 74,
      "metadata": {
        "colab": {
          "base_uri": "https://localhost:8080/"
        },
        "execution": {
          "iopub.execute_input": "2023-07-25T14:15:16.410527Z",
          "iopub.status.busy": "2023-07-25T14:15:16.409844Z",
          "iopub.status.idle": "2023-07-25T14:15:16.417158Z",
          "shell.execute_reply": "2023-07-25T14:15:16.416117Z",
          "shell.execute_reply.started": "2023-07-25T14:15:16.410489Z"
        },
        "id": "Ys0Yj5jQD1Yh",
        "outputId": "c76646f3-16c1-4fab-a400-776b02f09da2",
        "trusted": true
      },
      "outputs": [
        {
          "name": "stderr",
          "output_type": "stream",
          "text": [
            "<ipython-input-74-1134392f3b02>:1: SettingWithCopyWarning: \n",
            "A value is trying to be set on a copy of a slice from a DataFrame.\n",
            "Try using .loc[row_indexer,col_indexer] = value instead\n",
            "\n",
            "See the caveats in the documentation: https://pandas.pydata.org/pandas-docs/stable/user_guide/indexing.html#returning-a-view-versus-a-copy\n",
            "  data1['Cluster'] = kmeans.labels_\n"
          ]
        }
      ],
      "source": [
        "data1['Cluster'] = kmeans.labels_\n",
        "data['Cluster'] = kmeans.labels_"
      ]
    },
    {
      "cell_type": "code",
      "execution_count": 75,
      "metadata": {
        "colab": {
          "base_uri": "https://localhost:8080/",
          "height": 472
        },
        "execution": {
          "iopub.execute_input": "2023-07-25T14:15:16.962458Z",
          "iopub.status.busy": "2023-07-25T14:15:16.961813Z",
          "iopub.status.idle": "2023-07-25T14:15:17.313787Z",
          "shell.execute_reply": "2023-07-25T14:15:17.312606Z",
          "shell.execute_reply.started": "2023-07-25T14:15:16.962420Z"
        },
        "id": "EmRn4mV2D1Yi",
        "outputId": "4fb007bb-99c3-4894-ecd5-0abe09c0f944",
        "trusted": true
      },
      "outputs": [
        {
          "data": {
            "image/png": "[encoded data removed]",
            "text/plain": [
              "<Figure size 640x480 with 1 Axes>"
            ]
          },
          "metadata": {},
          "output_type": "display_data"
        }
      ],
      "source": [
        "plt.scatter(data1['TV_Type'], data1['Price'], c=data1['Cluster'], cmap='viridis')\n",
        "plt.xlabel('TV Type')\n",
        "plt.ylabel('Price')\n",
        "plt.title(f'K-means Clustering (K={k}) for Scaled data')\n",
        "plt.show()"
      ]
    },
    {
      "cell_type": "code",
      "execution_count": 76,
      "metadata": {
        "colab": {
          "base_uri": "https://localhost:8080/",
          "height": 472
        },
        "execution": {
          "iopub.execute_input": "2023-07-25T14:16:05.219511Z",
          "iopub.status.busy": "2023-07-25T14:16:05.218289Z",
          "iopub.status.idle": "2023-07-25T14:16:05.572169Z",
          "shell.execute_reply": "2023-07-25T14:16:05.570992Z",
          "shell.execute_reply.started": "2023-07-25T14:16:05.219464Z"
        },
        "id": "Tbx9BtTID1Yi",
        "outputId": "6b2fe0f9-f8c5-4bf9-a009-4efcdd739074",
        "trusted": true
      },
      "outputs": [
        {
          "data": {
            "image/png": "[encoded data removed]",
            "text/plain": [
              "<Figure size 640x480 with 1 Axes>"
            ]
          },
          "metadata": {},
          "output_type": "display_data"
        }
      ],
      "source": [
        "plt.scatter(data['TV_Type'], data['Price'], c=data['Cluster'], cmap='viridis')\n",
        "plt.xlabel('TV Type')\n",
        "plt.ylabel('Price')\n",
        "plt.title(f'K-means Clustering (K={k}) for data')\n",
        "plt.show()"
      ]
    },
    {
      "cell_type": "markdown",
      "metadata": {
        "id": "n626F5F2D1Yi"
      },
      "source": [
        "Cluster Depiction"
      ]
    },
    {
      "cell_type": "code",
      "execution_count": 77,
      "metadata": {
        "colab": {
          "base_uri": "https://localhost:8080/",
          "height": 675
        },
        "execution": {
          "iopub.execute_input": "2023-07-25T14:16:15.414969Z",
          "iopub.status.busy": "2023-07-25T14:16:15.414577Z",
          "iopub.status.idle": "2023-07-25T14:16:15.646828Z",
          "shell.execute_reply": "2023-07-25T14:16:15.645588Z",
          "shell.execute_reply.started": "2023-07-25T14:16:15.414937Z"
        },
        "id": "_x5SC5wBD1Yj",
        "outputId": "c393e28d-432e-45fe-9b22-41e3c7418a38",
        "trusted": true
      },
      "outputs": [
        {
          "data": {
            "image/png": "[encoded data removed]",
            "text/plain": [
              "<Figure size 800x800 with 1 Axes>"
            ]
          },
          "metadata": {},
          "output_type": "display_data"
        }
      ],
      "source": [
        "count = data['Cluster'].value_counts()\n",
        "\n",
        "plt.figure(figsize=(8, 8))\n",
        "plt.pie(count, labels=count.index, autopct='%1.1f%%', startangle=140)\n",
        "plt.title(f'Pie Chart of Clusters based on Tv Type and Price')\n",
        "plt.axis('equal')\n",
        "plt.show()"
      ]
    },
    {
      "cell_type": "code",
      "execution_count": 78,
      "metadata": {
        "colab": {
          "base_uri": "https://localhost:8080/",
          "height": 472
        },
        "execution": {
          "iopub.execute_input": "2023-07-25T14:16:21.065981Z",
          "iopub.status.busy": "2023-07-25T14:16:21.065534Z",
          "iopub.status.idle": "2023-07-25T14:16:21.629826Z",
          "shell.execute_reply": "2023-07-25T14:16:21.628425Z",
          "shell.execute_reply.started": "2023-07-25T14:16:21.065943Z"
        },
        "id": "0luO1l95D1Yj",
        "outputId": "a6bcd62f-200a-4a94-ddef-1a5ee4f51ef3",
        "trusted": true
      },
      "outputs": [
        {
          "data": {
            "image/png": "[encoded data removed]",
            "text/plain": [
              "<Figure size 640x480 with 1 Axes>"
            ]
          },
          "metadata": {},
          "output_type": "display_data"
        }
      ],
      "source": [
        "sns.scatterplot(data=data, x='TV_Size', y='Price', hue='Cluster')\n",
        "plt.title('Scatter Plot of TV Size vs. Price by Cluster')\n",
        "plt.show()"
      ]
    },
    {
      "cell_type": "code",
      "execution_count": 79,
      "metadata": {
        "colab": {
          "base_uri": "https://localhost:8080/",
          "height": 472
        },
        "execution": {
          "iopub.execute_input": "2023-07-25T14:16:21.632844Z",
          "iopub.status.busy": "2023-07-25T14:16:21.632305Z",
          "iopub.status.idle": "2023-07-25T14:16:22.114711Z",
          "shell.execute_reply": "2023-07-25T14:16:22.113631Z",
          "shell.execute_reply.started": "2023-07-25T14:16:21.632800Z"
        },
        "id": "c00SXJD-D1Yj",
        "outputId": "348ea36a-249c-4bdf-ee68-af407c2838f9",
        "trusted": true
      },
      "outputs": [
        {
          "data": {
            "image/png": "[encoded data removed]",
            "text/plain": [
              "<Figure size 640x480 with 1 Axes>"
            ]
          },
          "metadata": {},
          "output_type": "display_data"
        }
      ],
      "source": [
        "sns.barplot(data=data, x='Cluster', y='Price')\n",
        "plt.title('Bar Plot of Average Price by Cluster')\n",
        "plt.show()"
      ]
    },
    {
      "cell_type": "code",
      "execution_count": 80,
      "metadata": {
        "execution": {
          "iopub.execute_input": "2023-07-25T14:16:22.117564Z",
          "iopub.status.busy": "2023-07-25T14:16:22.116973Z",
          "iopub.status.idle": "2023-07-25T14:16:22.122685Z",
          "shell.execute_reply": "2023-07-25T14:16:22.121686Z",
          "shell.execute_reply.started": "2023-07-25T14:16:22.117520Z"
        },
        "id": "ZZ65dC2MD1Yk",
        "trusted": true
      },
      "outputs": [],
      "source": [
        "from sklearn.tree import DecisionTreeRegressor\n",
        "from sklearn.model_selection import train_test_split"
      ]
    },
    {
      "cell_type": "code",
      "execution_count": 81,
      "metadata": {
        "colab": {
          "base_uri": "https://localhost:8080/",
          "height": 250
        },
        "execution": {
          "iopub.execute_input": "2023-07-25T14:16:26.417421Z",
          "iopub.status.busy": "2023-07-25T14:16:26.416987Z",
          "iopub.status.idle": "2023-07-25T14:16:26.434631Z",
          "shell.execute_reply": "2023-07-25T14:16:26.433518Z",
          "shell.execute_reply.started": "2023-07-25T14:16:26.417386Z"
        },
        "id": "5SVDDufVD1Yk",
        "outputId": "36bcd5f3-f7da-4f0e-939d-156721913052",
        "trusted": true
      },
      "outputs": [
        {
          "data": {
            "text/html": [
              "\n",
              "\n",
              "  <div id=\"df-9995b564-f0bb-45c9-a2e2-aa5b32b32ae2\">\n",
              "    <div class=\"colab-df-container\">\n",
              "      <div>\n",
              "<style scoped>\n",
              "    .dataframe tbody tr th:only-of-type {\n",
              "        vertical-align: middle;\n",
              "    }\n",
              "\n",
              "    .dataframe tbody tr th {\n",
              "        vertical-align: top;\n",
              "    }\n",
              "\n",
              "    .dataframe thead th {\n",
              "        text-align: right;\n",
              "    }\n",
              "</style>\n",
              "<table border=\"1\" class=\"dataframe\">\n",
              "  <thead>\n",
              "    <tr style=\"text-align: right;\">\n",
              "      <th></th>\n",
              "      <th>description</th>\n",
              "      <th>reviews</th>\n",
              "      <th>Price</th>\n",
              "      <th>discount</th>\n",
              "      <th>Brand</th>\n",
              "      <th>TV_Size</th>\n",
              "      <th>TV_Type</th>\n",
              "      <th>TV_Pixels</th>\n",
              "      <th>Cluster</th>\n",
              "    </tr>\n",
              "  </thead>\n",
              "  <tbody>\n",
              "    <tr>\n",
              "      <th>2</th>\n",
              "      <td>Samsung 55 4K UHD HDR LED Tizen Smart TV (UN55...</td>\n",
              "      <td>40</td>\n",
              "      <td>599.99</td>\n",
              "      <td>15.5</td>\n",
              "      <td>Samsung</td>\n",
              "      <td>LED</td>\n",
              "      <td>55.0</td>\n",
              "      <td>4K</td>\n",
              "      <td>0</td>\n",
              "    </tr>\n",
              "    <tr>\n",
              "      <th>3</th>\n",
              "      <td>Samsung 43 4K UHD HDR LED Tizen Smart TV (UN43...</td>\n",
              "      <td>1015</td>\n",
              "      <td>399.99</td>\n",
              "      <td>12.2</td>\n",
              "      <td>Samsung</td>\n",
              "      <td>LED</td>\n",
              "      <td>43.0</td>\n",
              "      <td>4K</td>\n",
              "      <td>2</td>\n",
              "    </tr>\n",
              "    <tr>\n",
              "      <th>4</th>\n",
              "      <td>Samsung The Frame 65 4K UHD HDR QLED Tizen Sma...</td>\n",
              "      <td>418</td>\n",
              "      <td>2299.99</td>\n",
              "      <td>400.0</td>\n",
              "      <td>Samsung</td>\n",
              "      <td>LED</td>\n",
              "      <td>65.0</td>\n",
              "      <td>4K</td>\n",
              "      <td>4</td>\n",
              "    </tr>\n",
              "    <tr>\n",
              "      <th>6</th>\n",
              "      <td>Samsung 65 4K UHD HDR LED Tizen Smart TV (UN65...</td>\n",
              "      <td>24374</td>\n",
              "      <td>849.99</td>\n",
              "      <td>50.0</td>\n",
              "      <td>Samsung</td>\n",
              "      <td>LED</td>\n",
              "      <td>65.0</td>\n",
              "      <td>4K</td>\n",
              "      <td>4</td>\n",
              "    </tr>\n",
              "    <tr>\n",
              "      <th>7</th>\n",
              "      <td>Samsung 55 4K UHD HDR LED Tizen Smart TV (UN55...</td>\n",
              "      <td>157</td>\n",
              "      <td>699.99</td>\n",
              "      <td>15.5</td>\n",
              "      <td>Samsung</td>\n",
              "      <td>LED</td>\n",
              "      <td>55.0</td>\n",
              "      <td>4K</td>\n",
              "      <td>0</td>\n",
              "    </tr>\n",
              "  </tbody>\n",
              "</table>\n",
              "</div>\n",
              "      <button class=\"colab-df-convert\" onclick=\"convertToInteractive('df-9995b564-f0bb-45c9-a2e2-aa5b32b32ae2')\"\n",
              "              title=\"Convert this dataframe to an interactive table.\"\n",
              "              style=\"display:none;\">\n",
              "\n",
              "  <svg xmlns=\"http://www.w3.org/2000/svg\" height=\"24px\"viewBox=\"0 0 24 24\"\n",
              "       width=\"24px\">\n",
              "    <path d=\"M0 0h24v24H0V0z\" fill=\"none\"/>\n",
              "    <path d=\"M18.56 5.44l.94 2.06.94-2.06 2.06-.94-2.06-.94-.94-2.06-.94 2.06-2.06.94zm-11 1L8.5 8.5l.94-2.06 2.06-.94-2.06-.94L8.5 2.5l-.94 2.06-2.06.94zm10 10l.94 2.06.94-2.06 2.06-.94-2.06-.94-.94-2.06-.94 2.06-2.06.94z\"/><path d=\"M17.41 7.96l-1.37-1.37c-.4-.4-.92-.59-1.43-.59-.52 0-1.04.2-1.43.59L10.3 9.45l-7.72 7.72c-.78.78-.78 2.05 0 2.83L4 21.41c.39.39.9.59 1.41.59.51 0 1.02-.2 1.41-.59l7.78-7.78 2.81-2.81c.8-.78.8-2.07 0-2.86zM5.41 20L4 18.59l7.72-7.72 1.47 1.35L5.41 20z\"/>\n",
              "  </svg>\n",
              "      </button>\n",
              "\n",
              "\n",
              "\n",
              "    <div id=\"df-e132fce0-9fc1-40e4-85e8-ccdec45da3cf\">\n",
              "      <button class=\"colab-df-quickchart\" onclick=\"quickchart('df-e132fce0-9fc1-40e4-85e8-ccdec45da3cf')\"\n",
              "              title=\"Suggest charts.\"\n",
              "              style=\"display:none;\">\n",
              "\n",
              "<svg xmlns=\"http://www.w3.org/2000/svg\" height=\"24px\"viewBox=\"0 0 24 24\"\n",
              "     width=\"24px\">\n",
              "    <g>\n",
              "        <path d=\"M19 3H5c-1.1 0-2 .9-2 2v14c0 1.1.9 2 2 2h14c1.1 0 2-.9 2-2V5c0-1.1-.9-2-2-2zM9 17H7v-7h2v7zm4 0h-2V7h2v10zm4 0h-2v-4h2v4z\"/>\n",
              "    </g>\n",
              "</svg>\n",
              "      </button>\n",
              "    </div>\n",
              "\n",
              "<style>\n",
              "  .colab-df-quickchart {\n",
              "    background-color: #E8F0FE;\n",
              "    border: none;\n",
              "    border-radius: 50%;\n",
              "    cursor: pointer;\n",
              "    display: none;\n",
              "    fill: #1967D2;\n",
              "    height: 32px;\n",
              "    padding: 0 0 0 0;\n",
              "    width: 32px;\n",
              "  }\n",
              "\n",
              "  .colab-df-quickchart:hover {\n",
              "    background-color: #E2EBFA;\n",
              "    box-shadow: 0px 1px 2px rgba(60, 64, 67, 0.3), 0px 1px 3px 1px rgba(60, 64, 67, 0.15);\n",
              "    fill: #174EA6;\n",
              "  }\n",
              "\n",
              "  [theme=dark] .colab-df-quickchart {\n",
              "    background-color: #3B4455;\n",
              "    fill: #D2E3FC;\n",
              "  }\n",
              "\n",
              "  [theme=dark] .colab-df-quickchart:hover {\n",
              "    background-color: #434B5C;\n",
              "    box-shadow: 0px 1px 3px 1px rgba(0, 0, 0, 0.15);\n",
              "    filter: drop-shadow(0px 1px 2px rgba(0, 0, 0, 0.3));\n",
              "    fill: #FFFFFF;\n",
              "  }\n",
              "</style>\n",
              "\n",
              "    <script>\n",
              "      async function quickchart(key) {\n",
              "        const containerElement = document.querySelector('#' + key);\n",
              "        const charts = await google.colab.kernel.invokeFunction(\n",
              "            'suggestCharts', [key], {});\n",
              "      }\n",
              "    </script>\n",
              "\n",
              "      <script>\n",
              "\n",
              "function displayQuickchartButton(domScope) {\n",
              "  let quickchartButtonEl =\n",
              "    domScope.querySelector('#df-e132fce0-9fc1-40e4-85e8-ccdec45da3cf button.colab-df-quickchart');\n",
              "  quickchartButtonEl.style.display =\n",
              "    google.colab.kernel.accessAllowed ? 'block' : 'none';\n",
              "}\n",
              "\n",
              "        displayQuickchartButton(document);\n",
              "      </script>\n",
              "      <style>\n",
              "    .colab-df-container {\n",
              "      display:flex;\n",
              "      flex-wrap:wrap;\n",
              "      gap: 12px;\n",
              "    }\n",
              "\n",
              "    .colab-df-convert {\n",
              "      background-color: #E8F0FE;\n",
              "      border: none;\n",
              "      border-radius: 50%;\n",
              "      cursor: pointer;\n",
              "      display: none;\n",
              "      fill: #1967D2;\n",
              "      height: 32px;\n",
              "      padding: 0 0 0 0;\n",
              "      width: 32px;\n",
              "    }\n",
              "\n",
              "    .colab-df-convert:hover {\n",
              "      background-color: #E2EBFA;\n",
              "      box-shadow: 0px 1px 2px rgba(60, 64, 67, 0.3), 0px 1px 3px 1px rgba(60, 64, 67, 0.15);\n",
              "      fill: #174EA6;\n",
              "    }\n",
              "\n",
              "    [theme=dark] .colab-df-convert {\n",
              "      background-color: #3B4455;\n",
              "      fill: #D2E3FC;\n",
              "    }\n",
              "\n",
              "    [theme=dark] .colab-df-convert:hover {\n",
              "      background-color: #434B5C;\n",
              "      box-shadow: 0px 1px 3px 1px rgba(0, 0, 0, 0.15);\n",
              "      filter: drop-shadow(0px 1px 2px rgba(0, 0, 0, 0.3));\n",
              "      fill: #FFFFFF;\n",
              "    }\n",
              "  </style>\n",
              "\n",
              "      <script>\n",
              "        const buttonEl =\n",
              "          document.querySelector('#df-9995b564-f0bb-45c9-a2e2-aa5b32b32ae2 button.colab-df-convert');\n",
              "        buttonEl.style.display =\n",
              "          google.colab.kernel.accessAllowed ? 'block' : 'none';\n",
              "\n",
              "        async function convertToInteractive(key) {\n",
              "          const element = document.querySelector('#df-9995b564-f0bb-45c9-a2e2-aa5b32b32ae2');\n",
              "          const dataTable =\n",
              "            await google.colab.kernel.invokeFunction('convertToInteractive',\n",
              "                                                     [key], {});\n",
              "          if (!dataTable) return;\n",
              "\n",
              "          const docLinkHtml = 'Like what you see? Visit the ' +\n",
              "            '<a target=\"_blank\" href=https://colab.research.google.com/notebooks/data_table.ipynb>data table notebook</a>'\n",
              "            + ' to learn more about interactive tables.';\n",
              "          element.innerHTML = '';\n",
              "          dataTable['output_type'] = 'display_data';\n",
              "          await google.colab.output.renderOutput(dataTable, element);\n",
              "          const docLink = document.createElement('div');\n",
              "          docLink.innerHTML = docLinkHtml;\n",
              "          element.appendChild(docLink);\n",
              "        }\n",
              "      </script>\n",
              "    </div>\n",
              "  </div>\n"
            ],
            "text/plain": [
              "                                         description  reviews    Price  \\\n",
              "2  Samsung 55 4K UHD HDR LED Tizen Smart TV (UN55...       40   599.99   \n",
              "3  Samsung 43 4K UHD HDR LED Tizen Smart TV (UN43...     1015   399.99   \n",
              "4  Samsung The Frame 65 4K UHD HDR QLED Tizen Sma...      418  2299.99   \n",
              "6  Samsung 65 4K UHD HDR LED Tizen Smart TV (UN65...    24374   849.99   \n",
              "7  Samsung 55 4K UHD HDR LED Tizen Smart TV (UN55...      157   699.99   \n",
              "\n",
              "   discount                 Brand TV_Size  TV_Type TV_Pixels  Cluster  \n",
              "2      15.5  Samsung                  LED     55.0        4K        0  \n",
              "3      12.2  Samsung                  LED     43.0        4K        2  \n",
              "4     400.0  Samsung                  LED     65.0        4K        4  \n",
              "6      50.0  Samsung                  LED     65.0        4K        4  \n",
              "7      15.5  Samsung                  LED     55.0        4K        0  "
            ]
          },
          "execution_count": 81,
          "metadata": {},
          "output_type": "execute_result"
        }
      ],
      "source": [
        "data.head()"
      ]
    },
    {
      "cell_type": "code",
      "execution_count": 82,
      "metadata": {
        "colab": {
          "base_uri": "https://localhost:8080/"
        },
        "execution": {
          "iopub.execute_input": "2023-07-25T14:16:26.829314Z",
          "iopub.status.busy": "2023-07-25T14:16:26.828905Z",
          "iopub.status.idle": "2023-07-25T14:16:26.836648Z",
          "shell.execute_reply": "2023-07-25T14:16:26.835410Z",
          "shell.execute_reply.started": "2023-07-25T14:16:26.829280Z"
        },
        "id": "a9GuJfEGD1Yk",
        "outputId": "6a311a13-ac5f-4249-d5b6-a973438fac3b",
        "trusted": true
      },
      "outputs": [
        {
          "data": {
            "text/plain": [
              "array(['Samsung             ', 'Sony                ',\n",
              "       'LG                  ', 'Toshiba             ',\n",
              "       'NA                  ', 'Hisense             ',\n",
              "       'Amazon fire TV      ', 'Insignia            ',\n",
              "       'TCL 75              ', 'VIZIO               ',\n",
              "       'Philips 75          ', 'TCL 6Series 65      ',\n",
              "       'RCA 32              ', 'JVC 58              '], dtype=object)"
            ]
          },
          "execution_count": 82,
          "metadata": {},
          "output_type": "execute_result"
        }
      ],
      "source": [
        "data.Brand.unique()"
      ]
    },
    {
      "cell_type": "code",
      "execution_count": 83,
      "metadata": {
        "execution": {
          "iopub.execute_input": "2023-07-25T14:16:27.271518Z",
          "iopub.status.busy": "2023-07-25T14:16:27.271065Z",
          "iopub.status.idle": "2023-07-25T14:16:27.279745Z",
          "shell.execute_reply": "2023-07-25T14:16:27.278574Z",
          "shell.execute_reply.started": "2023-07-25T14:16:27.271478Z"
        },
        "id": "ncA3_NJND1Yl",
        "trusted": true
      },
      "outputs": [],
      "source": [
        "pixel_map = {\n",
        "    '4K': 0,\n",
        "    '1080p': 1,\n",
        "    '720p': 2,\n",
        "    '8K': 3,\n",
        "    '4k': 4,\n",
        "    '720P': 5,\n",
        "    'Ultra HD': 6\n",
        "}\n",
        "data['TV_Pixels'] = data['TV_Pixels'].map(pixel_map)"
      ]
    },
    {
      "cell_type": "code",
      "execution_count": 84,
      "metadata": {
        "execution": {
          "iopub.execute_input": "2023-07-25T14:16:27.693410Z",
          "iopub.status.busy": "2023-07-25T14:16:27.693004Z",
          "iopub.status.idle": "2023-07-25T14:16:27.702269Z",
          "shell.execute_reply": "2023-07-25T14:16:27.701091Z",
          "shell.execute_reply.started": "2023-07-25T14:16:27.693377Z"
        },
        "id": "uSRll9LlD1Yl",
        "trusted": true
      },
      "outputs": [],
      "source": [
        "brand_map = {\n",
        "    'Samsung             ': 0,\n",
        "    'Sony                ': 1,\n",
        "    'LG                  ': 2,\n",
        "    'Toshiba             ': 3,\n",
        "    'NA                  ': 4,\n",
        "    'Hisense             ': 5,\n",
        "    'Amazon fire TV      ': 6,\n",
        "    'Insignia            ': 7,\n",
        "    'TCL 75              ': 8,\n",
        "    'VIZIO               ': 9,\n",
        "    'Philips 75          ': 10,\n",
        "    'TCL 6Series 65      ': 11,\n",
        "    'RCA 32              ': 12,\n",
        "    'JVC 58              ': 13\n",
        "}\n",
        "\n",
        "data['Brand'] = data['Brand'].map(brand_map)"
      ]
    },
    {
      "cell_type": "code",
      "execution_count": 85,
      "metadata": {
        "execution": {
          "iopub.execute_input": "2023-07-25T14:16:28.143992Z",
          "iopub.status.busy": "2023-07-25T14:16:28.143590Z",
          "iopub.status.idle": "2023-07-25T14:16:28.150406Z",
          "shell.execute_reply": "2023-07-25T14:16:28.149476Z",
          "shell.execute_reply.started": "2023-07-25T14:16:28.143958Z"
        },
        "id": "cVrLD5YkD1Ym",
        "trusted": true
      },
      "outputs": [],
      "source": [
        "X = data[['TV_Type','TV_Pixels','Brand']]\n",
        "y = data['Price']"
      ]
    },
    {
      "cell_type": "code",
      "execution_count": 86,
      "metadata": {
        "execution": {
          "iopub.execute_input": "2023-07-25T14:16:28.455254Z",
          "iopub.status.busy": "2023-07-25T14:16:28.454492Z",
          "iopub.status.idle": "2023-07-25T14:16:28.463435Z",
          "shell.execute_reply": "2023-07-25T14:16:28.462406Z",
          "shell.execute_reply.started": "2023-07-25T14:16:28.455211Z"
        },
        "id": "4gO__BGcD1Ym",
        "trusted": true
      },
      "outputs": [],
      "source": [
        "X_train, X_test, y_train, y_test = train_test_split(X, y, test_size=0.2, random_state=42)"
      ]
    },
    {
      "cell_type": "code",
      "execution_count": 87,
      "metadata": {
        "colab": {
          "base_uri": "https://localhost:8080/",
          "height": 74
        },
        "execution": {
          "iopub.execute_input": "2023-07-25T14:18:57.960615Z",
          "iopub.status.busy": "2023-07-25T14:18:57.960229Z",
          "iopub.status.idle": "2023-07-25T14:18:57.972668Z",
          "shell.execute_reply": "2023-07-25T14:18:57.971523Z",
          "shell.execute_reply.started": "2023-07-25T14:18:57.960584Z"
        },
        "id": "nYNgqQDkD1Ym",
        "outputId": "8bf69b72-b6f0-4e9f-c0a7-66e8f04a3c3f",
        "trusted": true
      },
      "outputs": [
        {
          "data": {
            "text/html": [
              "<style>#sk-container-id-2 {color: black;background-color: white;}#sk-container-id-2 pre{padding: 0;}#sk-container-id-2 div.sk-toggleable {background-color: white;}#sk-container-id-2 label.sk-toggleable__label {cursor: pointer;display: block;width: 100%;margin-bottom: 0;padding: 0.3em;box-sizing: border-box;text-align: center;}#sk-container-id-2 label.sk-toggleable__label-arrow:before {content: \"▸\";float: left;margin-right: 0.25em;color: #696969;}#sk-container-id-2 label.sk-toggleable__label-arrow:hover:before {color: black;}#sk-container-id-2 div.sk-estimator:hover label.sk-toggleable__label-arrow:before {color: black;}#sk-container-id-2 div.sk-toggleable__content {max-height: 0;max-width: 0;overflow: hidden;text-align: left;background-color: #f0f8ff;}#sk-container-id-2 div.sk-toggleable__content pre {margin: 0.2em;color: black;border-radius: 0.25em;background-color: #f0f8ff;}#sk-container-id-2 input.sk-toggleable__control:checked~div.sk-toggleable__content {max-height: 200px;max-width: 100%;overflow: auto;}#sk-container-id-2 input.sk-toggleable__control:checked~label.sk-toggleable__label-arrow:before {content: \"▾\";}#sk-container-id-2 div.sk-estimator input.sk-toggleable__control:checked~label.sk-toggleable__label {background-color: #d4ebff;}#sk-container-id-2 div.sk-label input.sk-toggleable__control:checked~label.sk-toggleable__label {background-color: #d4ebff;}#sk-container-id-2 input.sk-hidden--visually {border: 0;clip: rect(1px 1px 1px 1px);clip: rect(1px, 1px, 1px, 1px);height: 1px;margin: -1px;overflow: hidden;padding: 0;position: absolute;width: 1px;}#sk-container-id-2 div.sk-estimator {font-family: monospace;background-color: #f0f8ff;border: 1px dotted black;border-radius: 0.25em;box-sizing: border-box;margin-bottom: 0.5em;}#sk-container-id-2 div.sk-estimator:hover {background-color: #d4ebff;}#sk-container-id-2 div.sk-parallel-item::after {content: \"\";width: 100%;border-bottom: 1px solid gray;flex-grow: 1;}#sk-container-id-2 div.sk-label:hover label.sk-toggleable__label {background-color: #d4ebff;}#sk-container-id-2 div.sk-serial::before {content: \"\";position: absolute;border-left: 1px solid gray;box-sizing: border-box;top: 0;bottom: 0;left: 50%;z-index: 0;}#sk-container-id-2 div.sk-serial {display: flex;flex-direction: column;align-items: center;background-color: white;padding-right: 0.2em;padding-left: 0.2em;position: relative;}#sk-container-id-2 div.sk-item {position: relative;z-index: 1;}#sk-container-id-2 div.sk-parallel {display: flex;align-items: stretch;justify-content: center;background-color: white;position: relative;}#sk-container-id-2 div.sk-item::before, #sk-container-id-2 div.sk-parallel-item::before {content: \"\";position: absolute;border-left: 1px solid gray;box-sizing: border-box;top: 0;bottom: 0;left: 50%;z-index: -1;}#sk-container-id-2 div.sk-parallel-item {display: flex;flex-direction: column;z-index: 1;position: relative;background-color: white;}#sk-container-id-2 div.sk-parallel-item:first-child::after {align-self: flex-end;width: 50%;}#sk-container-id-2 div.sk-parallel-item:last-child::after {align-self: flex-start;width: 50%;}#sk-container-id-2 div.sk-parallel-item:only-child::after {width: 0;}#sk-container-id-2 div.sk-dashed-wrapped {border: 1px dashed gray;margin: 0 0.4em 0.5em 0.4em;box-sizing: border-box;padding-bottom: 0.4em;background-color: white;}#sk-container-id-2 div.sk-label label {font-family: monospace;font-weight: bold;display: inline-block;line-height: 1.2em;}#sk-container-id-2 div.sk-label-container {text-align: center;}#sk-container-id-2 div.sk-container {/* jupyter's `normalize.less` sets `[hidden] { display: none; }` but bootstrap.min.css set `[hidden] { display: none !important; }` so we also need the `!important` here to be able to override the default hidden behavior on the sphinx rendered scikit-learn.org. See: https://github.com/scikit-learn/scikit-learn/issues/21755 */display: inline-block !important;position: relative;}#sk-container-id-2 div.sk-text-repr-fallback {display: none;}</style><div id=\"sk-container-id-2\" class=\"sk-top-container\"><div class=\"sk-text-repr-fallback\"><pre>DecisionTreeRegressor(random_state=42)</pre><b>In a Jupyter environment, please rerun this cell to show the HTML representation or trust the notebook. <br />On GitHub, the HTML representation is unable to render, please try loading this page with nbviewer.org.</b></div><div class=\"sk-container\" hidden><div class=\"sk-item\"><div class=\"sk-estimator sk-toggleable\"><input class=\"sk-toggleable__control sk-hidden--visually\" id=\"sk-estimator-id-2\" type=\"checkbox\" checked><label for=\"sk-estimator-id-2\" class=\"sk-toggleable__label sk-toggleable__label-arrow\">DecisionTreeRegressor</label><div class=\"sk-toggleable__content\"><pre>DecisionTreeRegressor(random_state=42)</pre></div></div></div></div></div>"
            ],
            "text/plain": [
              "DecisionTreeRegressor(random_state=42)"
            ]
          },
          "execution_count": 87,
          "metadata": {},
          "output_type": "execute_result"
        }
      ],
      "source": [
        "decision_tree = DecisionTreeRegressor(random_state=42)\n",
        "decision_tree.fit(X_train, y_train)"
      ]
    },
    {
      "cell_type": "code",
      "execution_count": 88,
      "metadata": {
        "execution": {
          "iopub.execute_input": "2023-07-25T14:18:58.323992Z",
          "iopub.status.busy": "2023-07-25T14:18:58.323593Z",
          "iopub.status.idle": "2023-07-25T14:18:58.333193Z",
          "shell.execute_reply": "2023-07-25T14:18:58.332157Z",
          "shell.execute_reply.started": "2023-07-25T14:18:58.323962Z"
        },
        "id": "Kmes913tD1Yn",
        "trusted": true
      },
      "outputs": [],
      "source": [
        "y_pred = decision_tree.predict(X_test)"
      ]
    },
    {
      "cell_type": "code",
      "execution_count": 89,
      "metadata": {
        "colab": {
          "base_uri": "https://localhost:8080/"
        },
        "execution": {
          "iopub.execute_input": "2023-07-25T14:18:58.783686Z",
          "iopub.status.busy": "2023-07-25T14:18:58.783245Z",
          "iopub.status.idle": "2023-07-25T14:18:58.790981Z",
          "shell.execute_reply": "2023-07-25T14:18:58.789808Z",
          "shell.execute_reply.started": "2023-07-25T14:18:58.783649Z"
        },
        "id": "Z29uhnkiD1Yn",
        "outputId": "aabce651-9f8b-4ce1-f01d-397ebb703aa4",
        "trusted": true
      },
      "outputs": [
        {
          "name": "stdout",
          "output_type": "stream",
          "text": [
            "0.8013344372542037\n"
          ]
        }
      ],
      "source": [
        "from sklearn.metrics import r2_score\n",
        "accuracy = r2_score(y_test, y_pred)\n",
        "print(accuracy)"
      ]
    },
    {
      "cell_type": "markdown",
      "metadata": {
        "id": "VxLV-JeED1Yn"
      },
      "source": [
        "type , pixels -> 0.7945 type, brand -> 0.719  type, brand, pixel -> 0.795"
      ]
    },
    {
      "cell_type": "markdown",
      "metadata": {
        "id": "a4a7EvM6D1Yo"
      },
      "source": [
        "Model using Scaled Features"
      ]
    },
    {
      "cell_type": "code",
      "execution_count": 90,
      "metadata": {
        "execution": {
          "iopub.execute_input": "2023-07-25T14:16:31.189304Z",
          "iopub.status.busy": "2023-07-25T14:16:31.188331Z",
          "iopub.status.idle": "2023-07-25T14:16:31.195241Z",
          "shell.execute_reply": "2023-07-25T14:16:31.194350Z",
          "shell.execute_reply.started": "2023-07-25T14:16:31.189266Z"
        },
        "id": "VwcNTTw9D1Yo",
        "trusted": true
      },
      "outputs": [],
      "source": [
        "X1 = data1[['TV_Type','Cluster']]\n",
        "y1 = data1['Price']"
      ]
    },
    {
      "cell_type": "code",
      "execution_count": 91,
      "metadata": {
        "execution": {
          "iopub.execute_input": "2023-07-25T14:16:31.771464Z",
          "iopub.status.busy": "2023-07-25T14:16:31.771042Z",
          "iopub.status.idle": "2023-07-25T14:16:31.779329Z",
          "shell.execute_reply": "2023-07-25T14:16:31.778206Z",
          "shell.execute_reply.started": "2023-07-25T14:16:31.771430Z"
        },
        "id": "7CcMjaQxD1Yo",
        "trusted": true
      },
      "outputs": [],
      "source": [
        "X_train1, X_test1, y_train1, y_test1 = train_test_split(X1, y1, test_size=0.2, random_state=42)"
      ]
    },
    {
      "cell_type": "code",
      "execution_count": 92,
      "metadata": {
        "colab": {
          "base_uri": "https://localhost:8080/",
          "height": 74
        },
        "execution": {
          "iopub.execute_input": "2023-07-25T14:19:07.662431Z",
          "iopub.status.busy": "2023-07-25T14:19:07.661997Z",
          "iopub.status.idle": "2023-07-25T14:19:07.674743Z",
          "shell.execute_reply": "2023-07-25T14:19:07.673856Z",
          "shell.execute_reply.started": "2023-07-25T14:19:07.662397Z"
        },
        "id": "HVJx1MsCD1Yp",
        "outputId": "94ee868f-f2eb-4e4d-a6f7-69bbb4892e3e",
        "trusted": true
      },
      "outputs": [
        {
          "data": {
            "text/html": [
              "<style>#sk-container-id-3 {color: black;background-color: white;}#sk-container-id-3 pre{padding: 0;}#sk-container-id-3 div.sk-toggleable {background-color: white;}#sk-container-id-3 label.sk-toggleable__label {cursor: pointer;display: block;width: 100%;margin-bottom: 0;padding: 0.3em;box-sizing: border-box;text-align: center;}#sk-container-id-3 label.sk-toggleable__label-arrow:before {content: \"▸\";float: left;margin-right: 0.25em;color: #696969;}#sk-container-id-3 label.sk-toggleable__label-arrow:hover:before {color: black;}#sk-container-id-3 div.sk-estimator:hover label.sk-toggleable__label-arrow:before {color: black;}#sk-container-id-3 div.sk-toggleable__content {max-height: 0;max-width: 0;overflow: hidden;text-align: left;background-color: #f0f8ff;}#sk-container-id-3 div.sk-toggleable__content pre {margin: 0.2em;color: black;border-radius: 0.25em;background-color: #f0f8ff;}#sk-container-id-3 input.sk-toggleable__control:checked~div.sk-toggleable__content {max-height: 200px;max-width: 100%;overflow: auto;}#sk-container-id-3 input.sk-toggleable__control:checked~label.sk-toggleable__label-arrow:before {content: \"▾\";}#sk-container-id-3 div.sk-estimator input.sk-toggleable__control:checked~label.sk-toggleable__label {background-color: #d4ebff;}#sk-container-id-3 div.sk-label input.sk-toggleable__control:checked~label.sk-toggleable__label {background-color: #d4ebff;}#sk-container-id-3 input.sk-hidden--visually {border: 0;clip: rect(1px 1px 1px 1px);clip: rect(1px, 1px, 1px, 1px);height: 1px;margin: -1px;overflow: hidden;padding: 0;position: absolute;width: 1px;}#sk-container-id-3 div.sk-estimator {font-family: monospace;background-color: #f0f8ff;border: 1px dotted black;border-radius: 0.25em;box-sizing: border-box;margin-bottom: 0.5em;}#sk-container-id-3 div.sk-estimator:hover {background-color: #d4ebff;}#sk-container-id-3 div.sk-parallel-item::after {content: \"\";width: 100%;border-bottom: 1px solid gray;flex-grow: 1;}#sk-container-id-3 div.sk-label:hover label.sk-toggleable__label {background-color: #d4ebff;}#sk-container-id-3 div.sk-serial::before {content: \"\";position: absolute;border-left: 1px solid gray;box-sizing: border-box;top: 0;bottom: 0;left: 50%;z-index: 0;}#sk-container-id-3 div.sk-serial {display: flex;flex-direction: column;align-items: center;background-color: white;padding-right: 0.2em;padding-left: 0.2em;position: relative;}#sk-container-id-3 div.sk-item {position: relative;z-index: 1;}#sk-container-id-3 div.sk-parallel {display: flex;align-items: stretch;justify-content: center;background-color: white;position: relative;}#sk-container-id-3 div.sk-item::before, #sk-container-id-3 div.sk-parallel-item::before {content: \"\";position: absolute;border-left: 1px solid gray;box-sizing: border-box;top: 0;bottom: 0;left: 50%;z-index: -1;}#sk-container-id-3 div.sk-parallel-item {display: flex;flex-direction: column;z-index: 1;position: relative;background-color: white;}#sk-container-id-3 div.sk-parallel-item:first-child::after {align-self: flex-end;width: 50%;}#sk-container-id-3 div.sk-parallel-item:last-child::after {align-self: flex-start;width: 50%;}#sk-container-id-3 div.sk-parallel-item:only-child::after {width: 0;}#sk-container-id-3 div.sk-dashed-wrapped {border: 1px dashed gray;margin: 0 0.4em 0.5em 0.4em;box-sizing: border-box;padding-bottom: 0.4em;background-color: white;}#sk-container-id-3 div.sk-label label {font-family: monospace;font-weight: bold;display: inline-block;line-height: 1.2em;}#sk-container-id-3 div.sk-label-container {text-align: center;}#sk-container-id-3 div.sk-container {/* jupyter's `normalize.less` sets `[hidden] { display: none; }` but bootstrap.min.css set `[hidden] { display: none !important; }` so we also need the `!important` here to be able to override the default hidden behavior on the sphinx rendered scikit-learn.org. See: https://github.com/scikit-learn/scikit-learn/issues/21755 */display: inline-block !important;position: relative;}#sk-container-id-3 div.sk-text-repr-fallback {display: none;}</style><div id=\"sk-container-id-3\" class=\"sk-top-container\"><div class=\"sk-text-repr-fallback\"><pre>DecisionTreeRegressor(random_state=42)</pre><b>In a Jupyter environment, please rerun this cell to show the HTML representation or trust the notebook. <br />On GitHub, the HTML representation is unable to render, please try loading this page with nbviewer.org.</b></div><div class=\"sk-container\" hidden><div class=\"sk-item\"><div class=\"sk-estimator sk-toggleable\"><input class=\"sk-toggleable__control sk-hidden--visually\" id=\"sk-estimator-id-3\" type=\"checkbox\" checked><label for=\"sk-estimator-id-3\" class=\"sk-toggleable__label sk-toggleable__label-arrow\">DecisionTreeRegressor</label><div class=\"sk-toggleable__content\"><pre>DecisionTreeRegressor(random_state=42)</pre></div></div></div></div></div>"
            ],
            "text/plain": [
              "DecisionTreeRegressor(random_state=42)"
            ]
          },
          "execution_count": 92,
          "metadata": {},
          "output_type": "execute_result"
        }
      ],
      "source": [
        "decision_tree1 = DecisionTreeRegressor(random_state=42)\n",
        "decision_tree1.fit(X_train1, y_train1)"
      ]
    },
    {
      "cell_type": "code",
      "execution_count": 93,
      "metadata": {
        "execution": {
          "iopub.execute_input": "2023-07-25T14:19:11.029236Z",
          "iopub.status.busy": "2023-07-25T14:19:11.028778Z",
          "iopub.status.idle": "2023-07-25T14:19:11.037431Z",
          "shell.execute_reply": "2023-07-25T14:19:11.036134Z",
          "shell.execute_reply.started": "2023-07-25T14:19:11.029199Z"
        },
        "id": "y-L7QF0mD1Yp",
        "trusted": true
      },
      "outputs": [],
      "source": [
        "y_pred1 = decision_tree1.predict(X_test1)"
      ]
    },
    {
      "cell_type": "code",
      "execution_count": 94,
      "metadata": {
        "colab": {
          "base_uri": "https://localhost:8080/"
        },
        "execution": {
          "iopub.execute_input": "2023-07-25T14:19:12.343547Z",
          "iopub.status.busy": "2023-07-25T14:19:12.343161Z",
          "iopub.status.idle": "2023-07-25T14:19:12.350605Z",
          "shell.execute_reply": "2023-07-25T14:19:12.349608Z",
          "shell.execute_reply.started": "2023-07-25T14:19:12.343518Z"
        },
        "id": "oBrx1R1xD1Yq",
        "outputId": "d41918ac-8238-454c-bae2-32c7381f3a30",
        "trusted": true
      },
      "outputs": [
        {
          "name": "stdout",
          "output_type": "stream",
          "text": [
            "0.8817377335279933\n"
          ]
        }
      ],
      "source": [
        "accuracy = r2_score(y_test1, y_pred1)\n",
        "print(accuracy)"
      ]
    },
    {
      "cell_type": "markdown",
      "metadata": {
        "id": "aThZ1JbDD1Yq"
      },
      "source": [
        "Perform Cross Validation"
      ]
    },
    {
      "cell_type": "code",
      "execution_count": 95,
      "metadata": {
        "execution": {
          "iopub.execute_input": "2023-07-25T14:19:16.432319Z",
          "iopub.status.busy": "2023-07-25T14:19:16.430952Z",
          "iopub.status.idle": "2023-07-25T14:19:16.437489Z",
          "shell.execute_reply": "2023-07-25T14:19:16.436303Z",
          "shell.execute_reply.started": "2023-07-25T14:19:16.432268Z"
        },
        "id": "ohl5qCiLD1Yq",
        "trusted": true
      },
      "outputs": [],
      "source": [
        "from sklearn.model_selection import cross_val_score"
      ]
    },
    {
      "cell_type": "code",
      "execution_count": 96,
      "metadata": {
        "execution": {
          "iopub.execute_input": "2023-07-25T14:19:30.958046Z",
          "iopub.status.busy": "2023-07-25T14:19:30.957555Z",
          "iopub.status.idle": "2023-07-25T14:19:31.024715Z",
          "shell.execute_reply": "2023-07-25T14:19:31.023643Z",
          "shell.execute_reply.started": "2023-07-25T14:19:30.958006Z"
        },
        "id": "DIw2F2z3D1Yr",
        "trusted": true
      },
      "outputs": [],
      "source": [
        "cv_scores = cross_val_score(decision_tree, X, y, cv=5)\n",
        "cv_scores1 = cross_val_score(decision_tree1, X1, y1, cv=5)"
      ]
    },
    {
      "cell_type": "code",
      "execution_count": 97,
      "metadata": {
        "colab": {
          "base_uri": "https://localhost:8080/"
        },
        "execution": {
          "iopub.execute_input": "2023-07-25T14:20:11.160563Z",
          "iopub.status.busy": "2023-07-25T14:20:11.160211Z",
          "iopub.status.idle": "2023-07-25T14:20:11.166977Z",
          "shell.execute_reply": "2023-07-25T14:20:11.165931Z",
          "shell.execute_reply.started": "2023-07-25T14:20:11.160533Z"
        },
        "id": "sjdCtF7ND1Yr",
        "outputId": "20c907d4-adaf-42bf-dbf1-d8494ce8b9f5",
        "trusted": true
      },
      "outputs": [
        {
          "name": "stdout",
          "output_type": "stream",
          "text": [
            "Cross-Validation Scores for non clustered data: [0.82442163 0.58753821 0.69495793 0.79989258 0.6015048 ]\n",
            "Mean Accuracy for non clustered data: 0.7016630316636171\n"
          ]
        }
      ],
      "source": [
        "print(\"Cross-Validation Scores for non clustered data:\", cv_scores)\n",
        "print(\"Mean Accuracy for non clustered data:\", cv_scores.mean())"
      ]
    },
    {
      "cell_type": "code",
      "execution_count": 98,
      "metadata": {
        "colab": {
          "base_uri": "https://localhost:8080/"
        },
        "execution": {
          "iopub.execute_input": "2023-07-25T14:20:33.243224Z",
          "iopub.status.busy": "2023-07-25T14:20:33.242829Z",
          "iopub.status.idle": "2023-07-25T14:20:33.249226Z",
          "shell.execute_reply": "2023-07-25T14:20:33.248318Z",
          "shell.execute_reply.started": "2023-07-25T14:20:33.243192Z"
        },
        "id": "KavPt3g_D1Ys",
        "outputId": "86145e74-a6ad-4ad3-b050-8f6c717809bc",
        "trusted": true
      },
      "outputs": [
        {
          "name": "stdout",
          "output_type": "stream",
          "text": [
            "Cross-Validation Scores for clustered data: [0.90391703 0.84848763 0.80955516 0.90949148 0.85283509]\n",
            "Mean Accuracy for clustered data: 0.8648572778491521\n"
          ]
        }
      ],
      "source": [
        "print(\"Cross-Validation Scores for clustered data:\", cv_scores1)\n",
        "print(\"Mean Accuracy for clustered data:\", cv_scores1.mean())"
      ]
    },
    {
      "cell_type": "code",
      "execution_count": 99,
      "metadata": {
        "colab": {
          "base_uri": "https://localhost:8080/",
          "height": 607
        },
        "execution": {
          "iopub.execute_input": "2023-07-25T14:22:44.652638Z",
          "iopub.status.busy": "2023-07-25T14:22:44.652188Z",
          "iopub.status.idle": "2023-07-25T14:22:45.026602Z",
          "shell.execute_reply": "2023-07-25T14:22:45.025391Z",
          "shell.execute_reply.started": "2023-07-25T14:22:44.652596Z"
        },
        "id": "qVmFhrGGD1Ys",
        "outputId": "99c2c796-8776-422b-d241-b70265ef1cc3",
        "trusted": true
      },
      "outputs": [
        {
          "data": {
            "image/png": "[encoded data removed]",
            "text/plain": [
              "<Figure size 1000x600 with 1 Axes>"
            ]
          },
          "metadata": {},
          "output_type": "display_data"
        }
      ],
      "source": [
        "feature_importance = decision_tree.feature_importances_\n",
        "\n",
        "# Create a DataFrame to store the feature importances and their corresponding column names\n",
        "importance_df = pd.DataFrame({'Feature': X.columns, 'Importance': feature_importance})\n",
        "\n",
        "# Sort the DataFrame in descending order of feature importance\n",
        "importance_df = importance_df.sort_values(by='Importance', ascending=False)\n",
        "\n",
        "# Plot the feature importances using a bar chart\n",
        "plt.figure(figsize=(10, 6))\n",
        "plt.bar(importance_df['Feature'], importance_df['Importance'])\n",
        "plt.xlabel('Feature')\n",
        "plt.ylabel('Importance')\n",
        "plt.title('Feature Importance')\n",
        "plt.xticks(rotation=90)\n",
        "plt.tight_layout()\n",
        "plt.show()"
      ]
    },
    {
      "cell_type": "code",
      "execution_count": 100,
      "metadata": {
        "colab": {
          "base_uri": "https://localhost:8080/",
          "height": 607
        },
        "execution": {
          "iopub.execute_input": "2023-07-25T14:22:57.904682Z",
          "iopub.status.busy": "2023-07-25T14:22:57.903976Z",
          "iopub.status.idle": "2023-07-25T14:22:58.239200Z",
          "shell.execute_reply": "2023-07-25T14:22:58.238183Z",
          "shell.execute_reply.started": "2023-07-25T14:22:57.904632Z"
        },
        "id": "vMJfZPcbD1Yt",
        "outputId": "f8febfe9-e038-4dae-e7c0-846bcf5f236c",
        "trusted": true
      },
      "outputs": [
        {
          "data": {
            "image/png": "[encoded data removed]",
            "text/plain": [
              "<Figure size 1000x600 with 1 Axes>"
            ]
          },
          "metadata": {},
          "output_type": "display_data"
        }
      ],
      "source": [
        "feature_importance = decision_tree1.feature_importances_\n",
        "\n",
        "# Create a DataFrame to store the feature importances and their corresponding column names\n",
        "importance_df = pd.DataFrame({'Feature': X1.columns, 'Importance': feature_importance})\n",
        "\n",
        "# Sort the DataFrame in descending order of feature importance\n",
        "importance_df = importance_df.sort_values(by='Importance', ascending=False)\n",
        "\n",
        "# Plot the feature importances using a bar chart\n",
        "plt.figure(figsize=(10, 6))\n",
        "plt.bar(importance_df['Feature'], importance_df['Importance'])\n",
        "plt.xlabel('Feature')\n",
        "plt.ylabel('Importance')\n",
        "plt.title('Feature Importance')\n",
        "plt.xticks(rotation=90)\n",
        "plt.tight_layout()\n",
        "plt.show()"
      ]
    },
    {
      "cell_type": "markdown",
      "metadata": {
        "id": "aeKQKrVnD1Yt"
      },
      "source": [
        "By Applying Cluster from data1 and applying it to data"
      ]
    },
    {
      "cell_type": "code",
      "execution_count": 101,
      "metadata": {
        "colab": {
          "base_uri": "https://localhost:8080/"
        },
        "execution": {
          "iopub.execute_input": "2023-07-25T14:39:40.164868Z",
          "iopub.status.busy": "2023-07-25T14:39:40.164389Z",
          "iopub.status.idle": "2023-07-25T14:39:40.184696Z",
          "shell.execute_reply": "2023-07-25T14:39:40.183583Z",
          "shell.execute_reply.started": "2023-07-25T14:39:40.164831Z"
        },
        "id": "nkYJBPhBD1Yu",
        "outputId": "74f27dc6-d491-4693-b0a2-365b3854d69b",
        "trusted": true
      },
      "outputs": [
        {
          "name": "stdout",
          "output_type": "stream",
          "text": [
            "0.9061104595068785\n"
          ]
        }
      ],
      "source": [
        "X12 = data[['TV_Type','TV_Pixels','Brand','Cluster']]\n",
        "y12 = data['Price']\n",
        "X_train12, X_test12, y_train12, y_test12 = train_test_split(X12, y12, test_size=0.2, random_state=42)\n",
        "decision_tree12 = DecisionTreeRegressor(random_state=42)\n",
        "decision_tree12.fit(X_train12, y_train12)\n",
        "y_pred12 = decision_tree12.predict(X_test12)\n",
        "accuracy = r2_score(y_test12, y_pred12)\n",
        "print(accuracy)"
      ]
    },
    {
      "cell_type": "code",
      "execution_count": 102,
      "metadata": {
        "colab": {
          "base_uri": "https://localhost:8080/"
        },
        "execution": {
          "iopub.execute_input": "2023-07-25T14:39:42.612958Z",
          "iopub.status.busy": "2023-07-25T14:39:42.612556Z",
          "iopub.status.idle": "2023-07-25T14:39:42.652077Z",
          "shell.execute_reply": "2023-07-25T14:39:42.650962Z",
          "shell.execute_reply.started": "2023-07-25T14:39:42.612926Z"
        },
        "id": "kIh47WOID1Yu",
        "outputId": "d1943c42-e2d3-4043-9c46-e7e4eb58bfb4",
        "trusted": true
      },
      "outputs": [
        {
          "name": "stdout",
          "output_type": "stream",
          "text": [
            "0.8892904955770801\n"
          ]
        }
      ],
      "source": [
        "cv_scores12 = cross_val_score(decision_tree12, X12, y12, cv=5)\n",
        "print(cv_scores12.mean())"
      ]
    },
    {
      "cell_type": "code",
      "execution_count": 103,
      "metadata": {
        "colab": {
          "base_uri": "https://localhost:8080/",
          "height": 607
        },
        "execution": {
          "iopub.execute_input": "2023-07-25T14:39:44.462983Z",
          "iopub.status.busy": "2023-07-25T14:39:44.462610Z",
          "iopub.status.idle": "2023-07-25T14:39:45.132186Z",
          "shell.execute_reply": "2023-07-25T14:39:45.131350Z",
          "shell.execute_reply.started": "2023-07-25T14:39:44.462951Z"
        },
        "id": "XBqkzPeJD1Yu",
        "outputId": "8544d6d1-6bce-4d1d-cf09-95fbffdab548",
        "trusted": true
      },
      "outputs": [
        {
          "data": {
            "image/png": "[encoded data removed]",
            "text/plain": [
              "<Figure size 1000x600 with 1 Axes>"
            ]
          },
          "metadata": {},
          "output_type": "display_data"
        }
      ],
      "source": [
        "feature_importance = decision_tree12.feature_importances_\n",
        "\n",
        "# Create a DataFrame to store the feature importances and their corresponding column names\n",
        "importance_df = pd.DataFrame({'Feature': X12.columns, 'Importance': feature_importance})\n",
        "\n",
        "# Sort the DataFrame in descending order of feature importance\n",
        "importance_df = importance_df.sort_values(by='Importance', ascending=False)\n",
        "\n",
        "# Plot the feature importances using a bar chart\n",
        "plt.figure(figsize=(10, 6))\n",
        "plt.bar(importance_df['Feature'], importance_df['Importance'])\n",
        "plt.xlabel('Feature')\n",
        "plt.ylabel('Importance')\n",
        "plt.title('Feature Importance')\n",
        "plt.xticks(rotation=90)\n",
        "plt.tight_layout()\n",
        "plt.show()"
      ]
    },
    {
      "cell_type": "markdown",
      "metadata": {
        "id": "lJaRqCSCD1Yv"
      },
      "source": [
        "This is the best method to predict the Price."
      ]
    },
    {
      "cell_type": "code",
      "execution_count": 104,
      "metadata": {
        "colab": {
          "base_uri": "https://localhost:8080/"
        },
        "execution": {
          "iopub.execute_input": "2023-07-25T14:46:46.723089Z",
          "iopub.status.busy": "2023-07-25T14:46:46.722143Z",
          "iopub.status.idle": "2023-07-25T14:46:46.733814Z",
          "shell.execute_reply": "2023-07-25T14:46:46.732270Z",
          "shell.execute_reply.started": "2023-07-25T14:46:46.723036Z"
        },
        "id": "3EmxBJgxD1Yv",
        "outputId": "d7da308a-fd61-4bc4-b29b-146a4e305959",
        "trusted": true
      },
      "outputs": [
        {
          "data": {
            "text/plain": [
              "['decision_tree_model.joblib']"
            ]
          },
          "execution_count": 104,
          "metadata": {},
          "output_type": "execute_result"
        }
      ],
      "source": [
        "import joblib\n",
        "model_filename = 'decision_tree_model.joblib'\n",
        "joblib.dump(decision_tree12, model_filename)"
      ]
    },
    {
      "cell_type": "markdown",
      "metadata": {
        "id": "woIYybL5D1Yv"
      },
      "source": [
        "Input: 'TV_Type','TV_Pixels','Brand','Cluster'\n",
        "Output: Price\n",
        "model name: ['decision_tree_model.joblib']\n",
        "\n",
        "\n",
        "For real time purpose, the other model without cluster is suggested,\n",
        "With\n",
        "Input: 'TV_Type','TV_Pixels','Brand'\n",
        "Output:Price\n",
        "model name: prediction.joblib"
      ]
    },
    {
      "cell_type": "code",
      "execution_count": 105,
      "metadata": {
        "colab": {
          "base_uri": "https://localhost:8080/"
        },
        "execution": {
          "iopub.execute_input": "2023-07-25T14:46:59.109326Z",
          "iopub.status.busy": "2023-07-25T14:46:59.108897Z",
          "iopub.status.idle": "2023-07-25T14:46:59.119384Z",
          "shell.execute_reply": "2023-07-25T14:46:59.118113Z",
          "shell.execute_reply.started": "2023-07-25T14:46:59.109291Z"
        },
        "id": "eajumvrND1Yv",
        "outputId": "ccdcb1e7-9156-4852-84b8-bf77735fb189",
        "trusted": true
      },
      "outputs": [
        {
          "data": {
            "text/plain": [
              "['prediction.joblib']"
            ]
          },
          "execution_count": 105,
          "metadata": {},
          "output_type": "execute_result"
        }
      ],
      "source": [
        "model_filename = 'prediction.joblib'\n",
        "joblib.dump(decision_tree, model_filename)"
      ]
    },
    {
      "cell_type": "code",
      "execution_count": 105,
      "metadata": {
        "id": "xXIFIHxsD1Yw"
      },
      "outputs": [],
      "source": []
    }
  ],
  "metadata": {
    "colab": {
      "provenance": []
    },
    "kernelspec": {
      "display_name": "Python 3",
      "language": "python",
      "name": "python3"
    },
    "language_info": {
      "codemirror_mode": {
        "name": "ipython",
        "version": 3
      },
      "file_extension": ".py",
      "mimetype": "text/x-python",
      "name": "python",
      "nbconvert_exporter": "python",
      "pygments_lexer": "ipython3",
      "version": "3.10.12"
    }
  },
  "nbformat": 4,
  "nbformat_minor": 0
}
