{
 "cells": [
  {
   "cell_type": "code",
   "execution_count": 1,
   "id": "related-connecticut",
   "metadata": {},
   "outputs": [],
   "source": [
    "from selenium import webdriver\n",
    "from selenium.webdriver.common.keys import Keys\n",
    "import pandas as pd\n",
    "import time\n",
    "from collections import defaultdict"
   ]
  },
  {
   "cell_type": "code",
   "execution_count": 2,
   "id": "immediate-combining",
   "metadata": {},
   "outputs": [
    {
     "name": "stderr",
     "output_type": "stream",
     "text": [
      "C:\\Users\\olaka\\AppData\\Local\\Temp\\ipykernel_2780\\1970852803.py:1: DeprecationWarning: executable_path has been deprecated, please pass in a Service object\n",
      "  driver = webdriver.Chrome(r\"C:\\Users\\olaka\\Downloads\\chromedriver_win32\\chromedriver.exe\")\n"
     ]
    }
   ],
   "source": [
    "driver = webdriver.Chrome(r\"C:\\Users\\olaka\\Downloads\\chromedriver_win32\\chromedriver.exe\")"
   ]
  },
  {
   "cell_type": "code",
   "execution_count": 3,
   "id": "retained-wealth",
   "metadata": {},
   "outputs": [],
   "source": [
    "driver.get('https://www.bestbuy.ca/en-ca/category/televisions/21344')"
   ]
  },
  {
   "cell_type": "code",
   "execution_count": 4,
   "id": "norwegian-narrow",
   "metadata": {},
   "outputs": [],
   "source": [
    "driver.maximize_window()"
   ]
  },
  {
   "cell_type": "code",
   "execution_count": 5,
   "id": "serious-uganda",
   "metadata": {},
   "outputs": [
    {
     "name": "stderr",
     "output_type": "stream",
     "text": [
      "C:\\Users\\olaka\\AppData\\Local\\Temp\\ipykernel_2780\\4039194325.py:1: DeprecationWarning: find_elements_by_xpath is deprecated. Please use find_elements(by=By.XPATH, value=xpath) instead\n",
      "  no_of_items = driver.find_elements_by_xpath('//*[@id=\"root\"]/div/div[2]/div[1]/div/main/div[1]/div[3]/div[2]/div[1]/div/div[1]')\n"
     ]
    }
   ],
   "source": [
    "no_of_items = driver.find_elements_by_xpath('//*[@id=\"root\"]/div/div[2]/div[1]/div/main/div[1]/div[3]/div[2]/div[1]/div/div[1]')"
   ]
  },
  {
   "cell_type": "code",
   "execution_count": 6,
   "id": "earned-desktop",
   "metadata": {},
   "outputs": [
    {
     "data": {
      "text/plain": [
       "[<selenium.webdriver.remote.webelement.WebElement (session=\"c3bcf3af6bb08b339089d4157369cfe9\", element=\"7CDC67AC83BDCAF2A86F4612313034F1_element_69\")>]"
      ]
     },
     "execution_count": 6,
     "metadata": {},
     "output_type": "execute_result"
    }
   ],
   "source": [
    "no_of_items"
   ]
  },
  {
   "cell_type": "code",
   "execution_count": 7,
   "id": "cloudy-perfume",
   "metadata": {},
   "outputs": [
    {
     "data": {
      "text/plain": [
       "'1,046 results'"
      ]
     },
     "execution_count": 7,
     "metadata": {},
     "output_type": "execute_result"
    }
   ],
   "source": [
    "no_of_items[0].text"
   ]
  },
  {
   "cell_type": "code",
   "execution_count": 8,
   "id": "66501aad",
   "metadata": {},
   "outputs": [
    {
     "name": "stderr",
     "output_type": "stream",
     "text": [
      "C:\\Users\\olaka\\AppData\\Local\\Temp\\ipykernel_2780\\2994157825.py:1: DeprecationWarning: find_element_by_xpath is deprecated. Please use find_element(by=By.XPATH, value=xpath) instead\n",
      "  no_of_items_element = driver.find_element_by_xpath('//*[@id=\"root\"]/div/div[2]/div[1]/div/main/div[1]/div[3]/div[2]/div[1]/div/div[1]')\n"
     ]
    }
   ],
   "source": [
    "no_of_items_element = driver.find_element_by_xpath('//*[@id=\"root\"]/div/div[2]/div[1]/div/main/div[1]/div[3]/div[2]/div[1]/div/div[1]')\n",
    "no_of_items_text = no_of_items_element.text.split()[0]\n",
    "no_of_items_text = no_of_items_element.text.split()[0]\n",
    "no_of_items = int(no_of_items_text.replace(',', ''))\n",
    "\n",
    "# Calculate the number of times to click the \"Show More\" button\n",
    "no_of_show_more_clicks = no_of_items // 29"
   ]
  },
  {
   "cell_type": "code",
   "execution_count": 9,
   "id": "solved-hawaiian",
   "metadata": {},
   "outputs": [
    {
     "data": {
      "text/plain": [
       "36"
      ]
     },
     "execution_count": 9,
     "metadata": {},
     "output_type": "execute_result"
    }
   ],
   "source": [
    "no_of_show_more_clicks"
   ]
  },
  {
   "cell_type": "code",
   "execution_count": 10,
   "id": "steady-rachel",
   "metadata": {},
   "outputs": [
    {
     "name": "stderr",
     "output_type": "stream",
     "text": [
      "C:\\Users\\olaka\\AppData\\Local\\Temp\\ipykernel_2780\\2755299087.py:2: DeprecationWarning: find_elements_by_xpath is deprecated. Please use find_elements(by=By.XPATH, value=xpath) instead\n",
      "  driver.find_elements_by_xpath('//*[@id=\"root\"]/div/div[2]/div[1]/div/main/div[1]/div[3]/div[2]/a/div')[0].click()\n"
     ]
    }
   ],
   "source": [
    "for _ in range(no_of_show_more_clicks):\n",
    "    driver.find_elements_by_xpath('//*[@id=\"root\"]/div/div[2]/div[1]/div/main/div[1]/div[3]/div[2]/a/div')[0].click()\n",
    "    time.sleep(3)"
   ]
  },
  {
   "cell_type": "code",
   "execution_count": 11,
   "id": "85ec81e5",
   "metadata": {},
   "outputs": [
    {
     "name": "stderr",
     "output_type": "stream",
     "text": [
      "C:\\Users\\olaka\\AppData\\Local\\Temp\\ipykernel_2780\\3389813353.py:1: DeprecationWarning: find_element_by_xpath is deprecated. Please use find_element(by=By.XPATH, value=xpath) instead\n",
      "  search = driver.find_element_by_xpath('//*[@id=\"root\"]/div/div[2]/div[1]/div/main/div[1]/div[3]/div[2]/div[2]/ul/div/div[1]')\n"
     ]
    }
   ],
   "source": [
    "search = driver.find_element_by_xpath('//*[@id=\"root\"]/div/div[2]/div[1]/div/main/div[1]/div[3]/div[2]/div[2]/ul/div/div[1]')\n",
    "\n",
    "\n"
   ]
  },
  {
   "cell_type": "code",
   "execution_count": 12,
   "id": "a36b64ed",
   "metadata": {},
   "outputs": [
    {
     "data": {
      "text/plain": [
       "<selenium.webdriver.remote.webelement.WebElement (session=\"c3bcf3af6bb08b339089d4157369cfe9\", element=\"7CDC67AC83BDCAF2A86F4612313034F1_element_272\")>"
      ]
     },
     "execution_count": 12,
     "metadata": {},
     "output_type": "execute_result"
    }
   ],
   "source": [
    "search"
   ]
  },
  {
   "cell_type": "code",
   "execution_count": 13,
   "id": "157a0d7f",
   "metadata": {},
   "outputs": [
    {
     "data": {
      "text/plain": [
       "'Sponsored\\nLG 43\" 4K UHD HDR LED webOS Smart TV (43UQ7590PUB) - 2022 - Dark Iron Grey\\n(1808 Reviews)\\n$449.99\\n$449.99\\nPlus $12.20 EHF\\nAvailable to ship\\nSold out in nearby stores'"
      ]
     },
     "execution_count": 13,
     "metadata": {},
     "output_type": "execute_result"
    }
   ],
   "source": [
    "search.text"
   ]
  },
  {
   "cell_type": "code",
   "execution_count": 14,
   "id": "rubber-ireland",
   "metadata": {},
   "outputs": [
    {
     "name": "stderr",
     "output_type": "stream",
     "text": [
      "C:\\Users\\olaka\\AppData\\Local\\Temp\\ipykernel_2780\\170765966.py:4: DeprecationWarning: find_element_by_xpath is deprecated. Please use find_element(by=By.XPATH, value=xpath) instead\n",
      "  search = driver.find_element_by_xpath('//*[@id=\"root\"]/div/div[2]/div[1]/div/main/div[1]/div[3]/div[2]/div[2]/ul/div/div[{}]'.format(i))\n"
     ]
    },
    {
     "name": "stdout",
     "output_type": "stream",
     "text": [
      "Out of Index\n",
      "Out of Index\n",
      "Out of Index\n",
      "Out of Index\n",
      "Out of Index\n",
      "Out of Index\n",
      "Out of Index\n",
      "Out of Index\n",
      "Out of Index\n",
      "Out of Index\n",
      "Out of Index\n",
      "Out of Index\n",
      "Out of Index\n",
      "Out of Index\n",
      "Out of Index\n",
      "Out of Index\n",
      "Out of Index\n",
      "Out of Index\n",
      "Out of Index\n",
      "Out of Index\n",
      "Out of Index\n",
      "Out of Index\n",
      "Out of Index\n",
      "Out of Index\n",
      "Out of Index\n",
      "Out of Index\n",
      "Out of Index\n",
      "Out of Index\n",
      "Out of Index\n",
      "Out of Index\n",
      "Out of Index\n",
      "Out of Index\n",
      "Out of Index\n",
      "Out of Index\n",
      "Out of Index\n",
      "Out of Index\n",
      "Out of Index\n",
      "Out of Index\n",
      "Out of Index\n",
      "Out of Index\n",
      "Out of Index\n",
      "Out of Index\n",
      "Out of Index\n",
      "Out of Index\n",
      "Out of Index\n",
      "Out of Index\n",
      "Out of Index\n",
      "Out of Index\n",
      "Out of Index\n",
      "Out of Index\n",
      "Out of Index\n",
      "Out of Index\n",
      "Out of Index\n",
      "Out of Index\n",
      "Out of Index\n",
      "Out of Index\n",
      "Out of Index\n",
      "Out of Index\n",
      "Out of Index\n",
      "Out of Index\n",
      "Out of Index\n",
      "Out of Index\n",
      "Out of Index\n",
      "Out of Index\n",
      "Out of Index\n",
      "Out of Index\n",
      "Out of Index\n",
      "Out of Index\n",
      "Out of Index\n",
      "Out of Index\n",
      "Out of Index\n",
      "Out of Index\n",
      "Out of Index\n",
      "Out of Index\n",
      "Out of Index\n",
      "Out of Index\n",
      "Out of Index\n",
      "Out of Index\n",
      "Out of Index\n",
      "Out of Index\n",
      "Out of Index\n",
      "Out of Index\n",
      "Out of Index\n",
      "Out of Index\n",
      "Out of Index\n",
      "Out of Index\n",
      "Out of Index\n",
      "Out of Index\n",
      "Out of Index\n",
      "Out of Index\n",
      "Out of Index\n",
      "Out of Index\n",
      "Out of Index\n",
      "Out of Index\n",
      "Out of Index\n",
      "Out of Index\n",
      "Out of Index\n",
      "Out of Index\n",
      "Out of Index\n",
      "Out of Index\n",
      "Out of Index\n",
      "Out of Index\n",
      "Out of Index\n",
      "Out of Index\n",
      "Out of Index\n",
      "Out of Index\n",
      "Out of Index\n",
      "Out of Index\n",
      "Out of Index\n",
      "Out of Index\n",
      "Out of Index\n",
      "Out of Index\n",
      "Out of Index\n",
      "Out of Index\n",
      "Out of Index\n",
      "Out of Index\n",
      "Out of Index\n",
      "Out of Index\n",
      "Out of Index\n",
      "Out of Index\n",
      "Out of Index\n",
      "Out of Index\n",
      "Out of Index\n",
      "Out of Index\n",
      "Out of Index\n",
      "Out of Index\n",
      "Out of Index\n",
      "Out of Index\n",
      "Out of Index\n",
      "Out of Index\n",
      "Out of Index\n",
      "Out of Index\n",
      "Out of Index\n",
      "Out of Index\n",
      "Out of Index\n",
      "Out of Index\n",
      "Out of Index\n",
      "Out of Index\n",
      "Out of Index\n",
      "Out of Index\n",
      "Out of Index\n",
      "Out of Index\n",
      "Out of Index\n",
      "Out of Index\n",
      "Out of Index\n",
      "Out of Index\n",
      "Out of Index\n",
      "Out of Index\n",
      "Out of Index\n",
      "Out of Index\n"
     ]
    }
   ],
   "source": [
    "array = []\n",
    "for i in range(1,no_of_show_more_clicks*29):\n",
    "    try:\n",
    "        search = driver.find_element_by_xpath('//*[@id=\"root\"]/div/div[2]/div[1]/div/main/div[1]/div[3]/div[2]/div[2]/ul/div/div[{}]'.format(i))\n",
    "        array.append(search.text)\n",
    "    except:\n",
    "        print('Out of Index')\n"
   ]
  },
  {
   "cell_type": "code",
   "execution_count": 15,
   "id": "broad-honolulu",
   "metadata": {},
   "outputs": [
    {
     "data": {
      "text/plain": [
       "['Sponsored\\nLG 43\" 4K UHD HDR LED webOS Smart TV (43UQ7590PUB) - 2022 - Dark Iron Grey\\n(1808 Reviews)\\n$449.99\\n$449.99\\nPlus $12.20 EHF\\nAvailable to ship\\nSold out in nearby stores',\n",
       " 'Sponsored\\nLG 86\" 4K UHD HDR LED webOS Smart TV (86UQ7590PUD) - 2022 - Dark Iron Grey\\n(17 Reviews)\\n$1799.99\\n$1,799.99\\nPlus $15.50 EHF\\nAvailable to ship\\nSold out in nearby stores',\n",
       " 'Samsung 50\" 4K UHD HDR LED Tizen Smart TV (UN50TU690TFXZC) - 2022 - Only at Best Buy\\n(864 Reviews)\\nTop Deal\\n$499.99\\n$499.99\\nSAVE $100\\nPlus $15.50 EHF\\nAvailable to ship\\nAvailable at nearby stores',\n",
       " 'Sony X85K 65\" 4K UHD HDR LED Smart Google TV (KD65X85K) - 2022\\n(505 Reviews)\\n$1099.99\\n$1,099.99\\nSAVE $200\\nPlus $15.50 EHF\\nAvailable to ship\\nSold out in nearby stores',\n",
       " 'Open Box - Samsung 70\" 4K UHD HDR LED Tizen OS Smart TV (UN70TU6985FXZC) - 2020\\n(3 Reviews)\\n$629.99\\n$629.99\\nSAVE $70\\nPlus $15.50 EHF\\nAvailable to ship\\nSold out in nearby stores']"
      ]
     },
     "execution_count": 15,
     "metadata": {},
     "output_type": "execute_result"
    }
   ],
   "source": [
    "array[:5]"
   ]
  },
  {
   "cell_type": "code",
   "execution_count": 16,
   "id": "compressed-bankruptcy",
   "metadata": {},
   "outputs": [
    {
     "data": {
      "text/plain": [
       "'Sponsored\\nLG 43\" 4K UHD HDR LED webOS Smart TV (43UQ7590PUB) - 2022 - Dark Iron Grey\\n(1808 Reviews)\\n$449.99\\n$449.99\\nPlus $12.20 EHF\\nAvailable to ship\\nSold out in nearby stores'"
      ]
     },
     "execution_count": 16,
     "metadata": {},
     "output_type": "execute_result"
    }
   ],
   "source": [
    "array[0]"
   ]
  },
  {
   "cell_type": "code",
   "execution_count": 17,
   "id": "blocked-embassy",
   "metadata": {},
   "outputs": [
    {
     "data": {
      "text/plain": [
       "['Sponsored',\n",
       " 'LG 43\" 4K UHD HDR LED webOS Smart TV (43UQ7590PUB) - 2022 - Dark Iron Grey',\n",
       " '(1808 Reviews)',\n",
       " '$449.99',\n",
       " '$449.99',\n",
       " 'Plus $12.20 EHF',\n",
       " 'Available to ship',\n",
       " 'Sold out in nearby stores']"
      ]
     },
     "execution_count": 17,
     "metadata": {},
     "output_type": "execute_result"
    }
   ],
   "source": [
    "array[0].splitlines()"
   ]
  },
  {
   "cell_type": "code",
   "execution_count": 18,
   "id": "accessible-ballot",
   "metadata": {},
   "outputs": [],
   "source": [
    "default = defaultdict(list)"
   ]
  },
  {
   "cell_type": "code",
   "execution_count": 19,
   "id": "domestic-healthcare",
   "metadata": {},
   "outputs": [
    {
     "name": "stdout",
     "output_type": "stream",
     "text": [
      "No index\n"
     ]
    }
   ],
   "source": [
    "for items in array:\n",
    "    try:\n",
    "        if 'Sponsored' in items.splitlines():\n",
    "            default['description'].append(items.splitlines()[1])\n",
    "            default['reviews'].append(items.splitlines()[2])\n",
    "        else:\n",
    "            default['description'].append(items.splitlines()[0])\n",
    "            default['reviews'].append(items.splitlines()[1])\n",
    "\n",
    "        if 'Top Deal' in items.splitlines() and 'Sponsored' in items.splitlines():\n",
    "            default['Price'].append(items.splitlines()[4])\n",
    "            default['Discount'].append(items.splitlines()[6])\n",
    "        elif 'Top Deal' in items.splitlines() or 'Sponsored' in items.splitlines():\n",
    "            default['Price'].append(items.splitlines()[3])\n",
    "            default['Discount'].append(items.splitlines()[5])\n",
    "        else:\n",
    "            default['Price'].append(items.splitlines()[2])\n",
    "            default['Discount'].append(items.splitlines()[4])\n",
    "    except:\n",
    "        print('No index')"
   ]
  },
  {
   "cell_type": "code",
   "execution_count": 20,
   "id": "treated-import",
   "metadata": {},
   "outputs": [],
   "source": [
    "df = pd.DataFrame.from_dict(default, orient='index')\n",
    "df = df.transpose()"
   ]
  },
  {
   "cell_type": "code",
   "execution_count": 21,
   "id": "attractive-album",
   "metadata": {},
   "outputs": [
    {
     "data": {
      "text/html": [
       "<div>\n",
       "<style scoped>\n",
       "    .dataframe tbody tr th:only-of-type {\n",
       "        vertical-align: middle;\n",
       "    }\n",
       "\n",
       "    .dataframe tbody tr th {\n",
       "        vertical-align: top;\n",
       "    }\n",
       "\n",
       "    .dataframe thead th {\n",
       "        text-align: right;\n",
       "    }\n",
       "</style>\n",
       "<table border=\"1\" class=\"dataframe\">\n",
       "  <thead>\n",
       "    <tr style=\"text-align: right;\">\n",
       "      <th></th>\n",
       "      <th>description</th>\n",
       "      <th>reviews</th>\n",
       "      <th>Price</th>\n",
       "      <th>Discount</th>\n",
       "    </tr>\n",
       "  </thead>\n",
       "  <tbody>\n",
       "    <tr>\n",
       "      <th>0</th>\n",
       "      <td>LG 43\" 4K UHD HDR LED webOS Smart TV (43UQ7590...</td>\n",
       "      <td>(1808 Reviews)</td>\n",
       "      <td>$449.99</td>\n",
       "      <td>Plus $12.20 EHF</td>\n",
       "    </tr>\n",
       "    <tr>\n",
       "      <th>1</th>\n",
       "      <td>LG 86\" 4K UHD HDR LED webOS Smart TV (86UQ7590...</td>\n",
       "      <td>(17 Reviews)</td>\n",
       "      <td>$1799.99</td>\n",
       "      <td>Plus $15.50 EHF</td>\n",
       "    </tr>\n",
       "    <tr>\n",
       "      <th>2</th>\n",
       "      <td>Samsung 50\" 4K UHD HDR LED Tizen Smart TV (UN5...</td>\n",
       "      <td>(864 Reviews)</td>\n",
       "      <td>$499.99</td>\n",
       "      <td>SAVE $100</td>\n",
       "    </tr>\n",
       "    <tr>\n",
       "      <th>3</th>\n",
       "      <td>Sony X85K 65\" 4K UHD HDR LED Smart Google TV (...</td>\n",
       "      <td>(505 Reviews)</td>\n",
       "      <td>$1099.99</td>\n",
       "      <td>SAVE $200</td>\n",
       "    </tr>\n",
       "    <tr>\n",
       "      <th>4</th>\n",
       "      <td>Open Box - Samsung 70\" 4K UHD HDR LED Tizen OS...</td>\n",
       "      <td>(3 Reviews)</td>\n",
       "      <td>$629.99</td>\n",
       "      <td>SAVE $70</td>\n",
       "    </tr>\n",
       "  </tbody>\n",
       "</table>\n",
       "</div>"
      ],
      "text/plain": [
       "                                         description         reviews  \\\n",
       "0  LG 43\" 4K UHD HDR LED webOS Smart TV (43UQ7590...  (1808 Reviews)   \n",
       "1  LG 86\" 4K UHD HDR LED webOS Smart TV (86UQ7590...    (17 Reviews)   \n",
       "2  Samsung 50\" 4K UHD HDR LED Tizen Smart TV (UN5...   (864 Reviews)   \n",
       "3  Sony X85K 65\" 4K UHD HDR LED Smart Google TV (...   (505 Reviews)   \n",
       "4  Open Box - Samsung 70\" 4K UHD HDR LED Tizen OS...     (3 Reviews)   \n",
       "\n",
       "      Price         Discount  \n",
       "0   $449.99  Plus $12.20 EHF  \n",
       "1  $1799.99  Plus $15.50 EHF  \n",
       "2   $499.99        SAVE $100  \n",
       "3  $1099.99        SAVE $200  \n",
       "4   $629.99         SAVE $70  "
      ]
     },
     "execution_count": 21,
     "metadata": {},
     "output_type": "execute_result"
    }
   ],
   "source": [
    "df.head()"
   ]
  },
  {
   "cell_type": "code",
   "execution_count": 22,
   "id": "needed-biodiversity",
   "metadata": {},
   "outputs": [
    {
     "data": {
      "text/plain": [
       "893"
      ]
     },
     "execution_count": 22,
     "metadata": {},
     "output_type": "execute_result"
    }
   ],
   "source": [
    "len(df)"
   ]
  },
  {
   "cell_type": "code",
   "execution_count": 26,
   "id": "julian-apparel",
   "metadata": {},
   "outputs": [],
   "source": [
    "df.to_csv('july_bestbuy.csv')"
   ]
  }
 ],
 "metadata": {
  "kernelspec": {
   "display_name": "Python 3 (ipykernel)",
   "language": "python",
   "name": "python3"
  },
  "language_info": {
   "codemirror_mode": {
    "name": "ipython",
    "version": 3
   },
   "file_extension": ".py",
   "mimetype": "text/x-python",
   "name": "python",
   "nbconvert_exporter": "python",
   "pygments_lexer": "ipython3",
   "version": "3.10.9"
  }
 },
 "nbformat": 4,
 "nbformat_minor": 5
}
